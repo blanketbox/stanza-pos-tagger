{
 "cells": [
  {
   "cell_type": "code",
   "execution_count": null,
   "id": "00c9d759",
   "metadata": {},
   "outputs": [],
   "source": [
    "%pip install stanza"
   ]
  },
  {
   "cell_type": "code",
   "execution_count": null,
   "id": "65521cbb",
   "metadata": {},
   "outputs": [],
   "source": [
    "import stanza\n",
    "import sys\n",
    "import re"
   ]
  },
  {
   "cell_type": "code",
   "execution_count": 6,
   "id": "7ded38c0",
   "metadata": {},
   "outputs": [],
   "source": [
    "# Download the English language model\n",
    "stanza.download('en', verbose=False)"
   ]
  },
  {
   "cell_type": "code",
   "execution_count": null,
   "id": "b3b646f3",
   "metadata": {},
   "outputs": [],
   "source": []
  },
  {
   "cell_type": "markdown",
   "id": "1c6f765c",
   "metadata": {},
   "source": []
  }
 ],
 "metadata": {
  "kernelspec": {
   "display_name": "stanza",
   "language": "python",
   "name": "python3"
  },
  "language_info": {
   "codemirror_mode": {
    "name": "ipython",
    "version": 3
   },
   "file_extension": ".py",
   "mimetype": "text/x-python",
   "name": "python",
   "nbconvert_exporter": "python",
   "pygments_lexer": "ipython3",
   "version": "3.12.3"
  }
 },
 "nbformat": 4,
 "nbformat_minor": 5
}
