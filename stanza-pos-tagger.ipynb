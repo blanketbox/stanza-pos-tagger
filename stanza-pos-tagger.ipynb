{
 "cells": [
  {
   "cell_type": "markdown",
   "metadata": {
    "id": "_xKpZHBAAcX6"
   },
   "source": [
    "# Part-of-speech-tagging with *stanza*\n",
    "\n"
   ]
  },
  {
   "cell_type": "markdown",
   "metadata": {
    "id": "CNBto5PnDhU5"
   },
   "source": [
    "This is a Python notebook for pos-tagging that is meant to be used in Google Colab.\n",
    "\n",
    "The following code will use the Python library *stanza* to tokenize and annotate text.\n",
    "\n",
    "Further information on *stanza*:\n",
    "\n",
    "*   How to use *stanza*: https://stanfordnlp.github.io/stanza/index.html\n",
    "*   The paper on *stanza*: https://aclanthology.org/2020.acl-demos.14/\n",
    "\n",
    "This code is written specifically to ignore XML-tags that is to print them unchanged and only tokenize and annotate raw text. This is ideal for use with the IMS Open Corpus Workbench where XML-tags provide metadata on each text and should not be annotated.\n",
    "\n",
    "In theory, you can use this notebook locally on your computer with the necessary dependencies (e.g. Jupyter Notebooks). In that case, you cannot use any commands specific to Google Colab. You will likely also not have a suitable GPU that will make your code run faster."
   ]
  },
  {
   "cell_type": "markdown",
   "metadata": {
    "id": "wrpKIiDPAlD2"
   },
   "source": [
    "## Use the GPU\n",
    "Be sure to set the runtime in Google Colab to a GPU, so the code will run faster. This makes a huge difference with large files!\n",
    "\n",
    "Google Colab will not select a GPU by default. To change to a GPU in Google Colab, click on **Runtime** above, select **Change runtime type** and select a GPU. Your notebook will disconnect and reconnect, so you may have to rerun cells.\n",
    "\n",
    "Google Colab may limit the number of times you can use a GPU per day, but this should not be a problem, as the code works on the default settings (CPU) as well."
   ]
  },
  {
   "cell_type": "markdown",
   "metadata": {
    "id": "naXS8Cd_HE0W"
   },
   "source": [
    "## Install and import *stanza*\n"
   ]
  },
  {
   "cell_type": "markdown",
   "metadata": {
    "id": "Bd0xIsBnfv1M"
   },
   "source": [
    "...and other necessary modules."
   ]
  },
  {
   "cell_type": "code",
   "execution_count": null,
   "metadata": {
    "colab": {
     "base_uri": "https://localhost:8080/"
    },
    "collapsed": true,
    "executionInfo": {
     "elapsed": 96465,
     "status": "ok",
     "timestamp": 1753141096788,
     "user": {
      "displayName": "Amy Amoakuh",
      "userId": "12421993125682944688"
     },
     "user_tz": -120
    },
    "id": "oaD27jIcrU8x",
    "outputId": "42fd55d9-fda6-4b27-de67-303ee7b97de8"
   },
   "outputs": [],
   "source": [
    "!pip install stanza"
   ]
  },
  {
   "cell_type": "code",
   "execution_count": 2,
   "metadata": {
    "executionInfo": {
     "elapsed": 10072,
     "status": "ok",
     "timestamp": 1753141111088,
     "user": {
      "displayName": "Amy Amoakuh",
      "userId": "12421993125682944688"
     },
     "user_tz": -120
    },
    "id": "-Pa3kRex9Rm4"
   },
   "outputs": [],
   "source": [
    "import stanza\n",
    "import re\n",
    "import os"
   ]
  },
  {
   "cell_type": "markdown",
   "metadata": {
    "id": "aMruJMMU_HxO"
   },
   "source": [
    "## Download the language model for English"
   ]
  },
  {
   "cell_type": "code",
   "execution_count": null,
   "metadata": {
    "colab": {
     "base_uri": "https://localhost:8080/",
     "height": 172,
     "referenced_widgets": [
      "875991ddb477446c9db1c5f8922ae970",
      "112882b7d4664814b8a7df0b2867bf40",
      "2df30ce9f7a545b281b2993ffcb3b805",
      "f4840568c2c84eae80a1adc01920a431",
      "14d1bb7562c942f9b6f4c29c843b2ff8",
      "1e56e8c9d21a4185b36c2470dd482686",
      "476f9e6bf4d048068efbfab672c37945",
      "6942d19eb89d4f928ebc52164f784f2c",
      "d8be2600fee44b98b2801e112afbc78d",
      "dbf81c1a77b349508d2c9dbd8905e735",
      "b59b0d68ae8a4ba68848bd8a06159139",
      "6b48b1ae0ecf4146a5cec09bb8e9c1d4",
      "43babae420bb45a7bb9096817caa9a2f",
      "4722d221c42b4cf4b0fa8ca550974f6c",
      "fb6bd8ec55c94383ad3b0aad0912dd80",
      "de41d210f46d4fdaa9a3783c9588aeba",
      "c09fb6d9ece24cc4870f4c143bedcee5",
      "33c08847c63c4f16bae187603fce606c",
      "d140684b830a4aeea64298a166a6b6b9",
      "17711b2874a2425694578c198fcb172a",
      "ff7917671d904affb2f018884f5ad6f2",
      "85c550d0bc3d426d9da1cbb1de38f8dd"
     ]
    },
    "collapsed": true,
    "executionInfo": {
     "elapsed": 20392,
     "status": "ok",
     "timestamp": 1753141136485,
     "user": {
      "displayName": "Amy Amoakuh",
      "userId": "12421993125682944688"
     },
     "user_tz": -120
    },
    "id": "elM__ka--kwH",
    "outputId": "5dc5e620-2e37-4775-95f7-91989ac5aca8"
   },
   "outputs": [],
   "source": [
    "stanza.download(\"en\")\n",
    "print(\"Language model downloaded\")\n",
    "nlp = stanza.Pipeline(\"en\", processors=\"tokenize, lemma, pos\", verbose=False, use_gpu=True)"
   ]
  },
  {
   "cell_type": "markdown",
   "metadata": {
    "id": "zQCudFTWXd5Q"
   },
   "source": [
    "For other languages and their corresponding codes (lcode), please see this list: https://stanfordnlp.github.io/stanza/performance.html\n",
    "For example, for German, replace \"en\" with \"de\" or, for Dutch, use \"nl\"."
   ]
  },
  {
   "cell_type": "markdown",
   "metadata": {
    "id": "gbbxDuhCdbaJ"
   },
   "source": [
    "## Verify that you're using a GPU"
   ]
  },
  {
   "cell_type": "markdown",
   "metadata": {
    "id": "q912qQe8XONj"
   },
   "source": [
    "Depending on whether the GPU is active or not, the output of this cell should be ```True``` or ```False```."
   ]
  },
  {
   "cell_type": "code",
   "execution_count": null,
   "metadata": {
    "colab": {
     "base_uri": "https://localhost:8080/"
    },
    "executionInfo": {
     "elapsed": 79,
     "status": "ok",
     "timestamp": 1753141244684,
     "user": {
      "displayName": "Amy Amoakuh",
      "userId": "12421993125682944688"
     },
     "user_tz": -120
    },
    "id": "Piqd16HidZf-",
    "outputId": "062b90a7-6fa8-46e0-8bff-48e7fc6084c4"
   },
   "outputs": [],
   "source": [
    "import torch\n",
    "\n",
    "torch.cuda.is_available()"
   ]
  },
  {
   "cell_type": "markdown",
   "metadata": {
    "id": "icOqe5y3BNMG"
   },
   "source": [
    "## Test the tagger with shorter texts\n",
    "\n",
    "You may find this useful to gain an impression of how well the tagger performs with your type of text, for instance, a song by Dr. Dre and Snoop Dogg."
   ]
  },
  {
   "cell_type": "code",
   "execution_count": 5,
   "metadata": {
    "executionInfo": {
     "elapsed": 11,
     "status": "ok",
     "timestamp": 1753141515045,
     "user": {
      "displayName": "Amy Amoakuh",
      "userId": "12421993125682944688"
     },
     "user_tz": -120
    },
    "id": "HAQKP83j9i2Z"
   },
   "outputs": [],
   "source": [
    "# Run this cell to set the sample text\n",
    "\n",
    "sample = \"\"\"\n",
    "\n",
    "And even when I was close to defeat, I rose to my feet\n",
    "My life's like a soundtrack I wrote to the beat\n",
    "Treat rap like Cali weed: I smoke 'til I'm 'sleep\n",
    "Wake up in the A.M., compose a beat\n",
    "I bring the fire 'til you're soakin' in your seat\n",
    "\n",
    "\"\"\""
   ]
  },
  {
   "cell_type": "markdown",
   "metadata": {
    "id": "eZawzfYg_gqc"
   },
   "source": [
    "Stanza will print each **token**, the **PENN Treebank tag** (xpos), the corresponding **Universal Dependencies tag** (pos), and the **lemma** (lemma) in all lowercase letters on a new line.\n",
    "\n",
    "See here for further information on the tagsets:\n",
    "\n",
    "*   **Universal Dependencies Tagset**: https://universaldependencies.org/u/pos\n",
    "*   **PENN Treebank Tagset**: https://www.ling.upenn.edu/courses/Fall_2003/ling001/penn_treebank_pos.html\n",
    "\n",
    "\n",
    "The output will be a tab-separated list, with each token on a separate line.\n"
   ]
  },
  {
   "cell_type": "code",
   "execution_count": null,
   "metadata": {
    "colab": {
     "base_uri": "https://localhost:8080/"
    },
    "collapsed": true,
    "executionInfo": {
     "elapsed": 1336,
     "status": "ok",
     "timestamp": 1753141523437,
     "user": {
      "displayName": "Amy Amoakuh",
      "userId": "12421993125682944688"
     },
     "user_tz": -120
    },
    "id": "YFLhGXfD88IC",
    "outputId": "f4f0c843-7f83-4374-85cd-d485f8d331f1"
   },
   "outputs": [],
   "source": [
    "# Run this to cell to tag the sample text\n",
    "\n",
    "# pattern to split XML tags and non-tags\n",
    "# group 1: XML tags, group 2: non-tag text\n",
    "parts = re.findall(r'(<[^>]+>)|([^<]+)', sample)\n",
    "\n",
    "\n",
    "for tag, text in parts:\n",
    "    if tag:\n",
    "        # it's an XML tag, so write it unchanged\n",
    "        print(tag + \"\\n\")\n",
    "    elif text:\n",
    "        # it's text content, so lemmatize, clean and write\n",
    "        doc = nlp(text)\n",
    "\n",
    "        for sentence in doc.sentences:\n",
    "            for word in sentence.words:\n",
    "                print(f\"{word.text}\\t{word.xpos}\\t{word.pos}\\t{word.lemma.lower()}\\n\")\n"
   ]
  },
  {
   "cell_type": "markdown",
   "metadata": {
    "id": "DtmFezjMHi4g"
   },
   "source": [
    "## Use the tagger with a text file\n",
    "\n"
   ]
  },
  {
   "cell_type": "markdown",
   "metadata": {
    "id": "0naoDPctPNK6"
   },
   "source": [
    "### Connect this notebook to your Google Drive account\n",
    "\n",
    "If you run this cell, a window should open, asking for permission. If you grant it, another window will have you select the Gooogle Drive account and specify which permissions to grant. You need to allow the notebook to open, read, edit and delete files. This will likely be only one tick box.\n",
    "\n",
    "If everything worked, the output of the cell should say: ```Mounted at /content/drive```."
   ]
  },
  {
   "cell_type": "code",
   "execution_count": null,
   "metadata": {
    "colab": {
     "base_uri": "https://localhost:8080/"
    },
    "executionInfo": {
     "elapsed": 121244,
     "status": "ok",
     "timestamp": 1753141654340,
     "user": {
      "displayName": "Amy Amoakuh",
      "userId": "12421993125682944688"
     },
     "user_tz": -120
    },
    "id": "qXrQ2OTi691o",
    "outputId": "bb678c56-ebbd-4579-bfff-5ba87b6e7934"
   },
   "outputs": [],
   "source": [
    "from google.colab import drive\n",
    "drive.mount(\"/content/drive\")"
   ]
  },
  {
   "cell_type": "markdown",
   "metadata": {
    "id": "AFzOSrHWOj4c"
   },
   "source": [
    "If your file is saved in your Google Drive, the notebook can access it with the following cells.\n",
    "\n",
    "**The file itself will not be changed!** It will only be opened in read-mode \"r\", meaning its contents will be read. The notebook will produce a new file with the tagged text.\n",
    "\n",
    "When inserting the name of your file in the cell below, please include the file extension as well. For a file named \"test.txt\", the extension would be \".txt\".\n"
   ]
  },
  {
   "cell_type": "code",
   "execution_count": 8,
   "metadata": {
    "executionInfo": {
     "elapsed": 37,
     "status": "ok",
     "timestamp": 1753141691842,
     "user": {
      "displayName": "Amy Amoakuh",
      "userId": "12421993125682944688"
     },
     "user_tz": -120
    },
    "id": "4UBtu4CoKzwW"
   },
   "outputs": [],
   "source": [
    "# Insert the name of your file inside the quotation marks\n",
    "FILE = \"test.txt\""
   ]
  },
  {
   "cell_type": "code",
   "execution_count": 9,
   "metadata": {
    "executionInfo": {
     "elapsed": 606,
     "status": "ok",
     "timestamp": 1753141694220,
     "user": {
      "displayName": "Amy Amoakuh",
      "userId": "12421993125682944688"
     },
     "user_tz": -120
    },
    "id": "YJl4h-RyKNPr"
   },
   "outputs": [],
   "source": [
    "FILE = FILE.strip()\n",
    "\n",
    "with open(f\"/content/drive/My Drive/{FILE}\", \"r\") as input_file:\n",
    "  name, ext = os.path.splitext(FILE)\n",
    "  output_file = name + \".vrt\"\n",
    "  content = input_file.read()"
   ]
  },
  {
   "cell_type": "markdown",
   "metadata": {
    "id": "gbDKwAO4VCws"
   },
   "source": [
    "With Google Colab set to use the GPU, this code will approximately need 6 minutes to tokenize and annotate a file with over 100.000 tokens.\n",
    "\n",
    "Be aware that the following code will **automatically download** the created file to your computer, unless the indicated line is commented out. It is advised that the file be immediately downloaded, because all files will be deleted as soon as the runtime disconnects (e.g. if the notebook has been inactive for a while).\n",
    "\n",
    "The downloaded file will have the name of the original input file with the extension changed to \".vrt\" (VeRTicalized file). This is just a normal text file that can be opened with any editor. Find out more here: https://fedora.clarin-d.uni-saarland.de/teaching/Comparing_Corpora_Tutorials/Tutorial_VRT.html\n",
    "\n",
    "This cell has no output.\n"
   ]
  },
  {
   "cell_type": "code",
   "execution_count": null,
   "metadata": {
    "colab": {
     "base_uri": "https://localhost:8080/",
     "height": 17
    },
    "executionInfo": {
     "elapsed": 4599,
     "status": "ok",
     "timestamp": 1753141704834,
     "user": {
      "displayName": "Amy Amoakuh",
      "userId": "12421993125682944688"
     },
     "user_tz": -120
    },
    "id": "9me9n77kInpn",
    "outputId": "cb979464-9fb3-4153-c0d3-82fd346f808c"
   },
   "outputs": [],
   "source": [
    "# Run this cell to tag the file\n",
    "\n",
    "from google.colab import files\n",
    "\n",
    "# pattern to split XML tags and non-tags\n",
    "# group 1: XML tags, group 2: non-tag text\n",
    "parts = re.findall(r'(<[^>]+>)|([^<]+)', content)\n",
    "\n",
    "with open(output_file, \"w\", encoding=\"utf-8\") as out:\n",
    "    for tag, text in parts:\n",
    "        if tag:\n",
    "            # it's an XML tag, so write it unchanged\n",
    "            out.write(tag + \"\\n\")\n",
    "        elif text:\n",
    "            # it's text content, so lemmatize, clean and write\n",
    "            doc = nlp(text)\n",
    "\n",
    "            for sentence in doc.sentences:\n",
    "                for word in sentence.words:\n",
    "                    out.write(\n",
    "                        f\"{word.text}\\t{word.xpos}\\t{word.pos}\\t{word.lemma.lower()}\\n\")\n",
    "\n",
    "print(f\"Lemmatized text written to {output_file}.\")\n",
    "\n",
    "# download the output file to your computer\n",
    "files.download(output_file)\n",
    "print(f\"{output_file} downloaded.\")"
   ]
  },
  {
   "cell_type": "markdown",
   "metadata": {
    "id": "7jKV-heKRNJL"
   },
   "source": []
  }
 ],
 "metadata": {
  "accelerator": "GPU",
  "colab": {
   "authorship_tag": "ABX9TyOnbJSaq4busr10UMadwwwe",
   "gpuType": "T4",
   "mount_file_id": "1KJWdcjhc0ytoSAiiErTeONCsREjURY2v",
   "provenance": []
  },
  "kernelspec": {
   "display_name": "Python 3",
   "name": "python3"
  },
  "language_info": {
   "name": "python"
  },
  "widgets": {
   "application/vnd.jupyter.widget-state+json": {
    "112882b7d4664814b8a7df0b2867bf40": {
     "model_module": "@jupyter-widgets/controls",
     "model_module_version": "1.5.0",
     "model_name": "HTMLModel",
     "state": {
      "_dom_classes": [],
      "_model_module": "@jupyter-widgets/controls",
      "_model_module_version": "1.5.0",
      "_model_name": "HTMLModel",
      "_view_count": null,
      "_view_module": "@jupyter-widgets/controls",
      "_view_module_version": "1.5.0",
      "_view_name": "HTMLView",
      "description": "",
      "description_tooltip": null,
      "layout": "IPY_MODEL_1e56e8c9d21a4185b36c2470dd482686",
      "placeholder": "​",
      "style": "IPY_MODEL_476f9e6bf4d048068efbfab672c37945",
      "value": "Downloading https://raw.githubusercontent.com/stanfordnlp/stanza-resources/main/resources_1.10.0.json: "
     }
    },
    "14d1bb7562c942f9b6f4c29c843b2ff8": {
     "model_module": "@jupyter-widgets/base",
     "model_module_version": "1.2.0",
     "model_name": "LayoutModel",
     "state": {
      "_model_module": "@jupyter-widgets/base",
      "_model_module_version": "1.2.0",
      "_model_name": "LayoutModel",
      "_view_count": null,
      "_view_module": "@jupyter-widgets/base",
      "_view_module_version": "1.2.0",
      "_view_name": "LayoutView",
      "align_content": null,
      "align_items": null,
      "align_self": null,
      "border": null,
      "bottom": null,
      "display": null,
      "flex": null,
      "flex_flow": null,
      "grid_area": null,
      "grid_auto_columns": null,
      "grid_auto_flow": null,
      "grid_auto_rows": null,
      "grid_column": null,
      "grid_gap": null,
      "grid_row": null,
      "grid_template_areas": null,
      "grid_template_columns": null,
      "grid_template_rows": null,
      "height": null,
      "justify_content": null,
      "justify_items": null,
      "left": null,
      "margin": null,
      "max_height": null,
      "max_width": null,
      "min_height": null,
      "min_width": null,
      "object_fit": null,
      "object_position": null,
      "order": null,
      "overflow": null,
      "overflow_x": null,
      "overflow_y": null,
      "padding": null,
      "right": null,
      "top": null,
      "visibility": null,
      "width": null
     }
    },
    "17711b2874a2425694578c198fcb172a": {
     "model_module": "@jupyter-widgets/controls",
     "model_module_version": "1.5.0",
     "model_name": "ProgressStyleModel",
     "state": {
      "_model_module": "@jupyter-widgets/controls",
      "_model_module_version": "1.5.0",
      "_model_name": "ProgressStyleModel",
      "_view_count": null,
      "_view_module": "@jupyter-widgets/base",
      "_view_module_version": "1.2.0",
      "_view_name": "StyleView",
      "bar_color": null,
      "description_width": ""
     }
    },
    "1e56e8c9d21a4185b36c2470dd482686": {
     "model_module": "@jupyter-widgets/base",
     "model_module_version": "1.2.0",
     "model_name": "LayoutModel",
     "state": {
      "_model_module": "@jupyter-widgets/base",
      "_model_module_version": "1.2.0",
      "_model_name": "LayoutModel",
      "_view_count": null,
      "_view_module": "@jupyter-widgets/base",
      "_view_module_version": "1.2.0",
      "_view_name": "LayoutView",
      "align_content": null,
      "align_items": null,
      "align_self": null,
      "border": null,
      "bottom": null,
      "display": null,
      "flex": null,
      "flex_flow": null,
      "grid_area": null,
      "grid_auto_columns": null,
      "grid_auto_flow": null,
      "grid_auto_rows": null,
      "grid_column": null,
      "grid_gap": null,
      "grid_row": null,
      "grid_template_areas": null,
      "grid_template_columns": null,
      "grid_template_rows": null,
      "height": null,
      "justify_content": null,
      "justify_items": null,
      "left": null,
      "margin": null,
      "max_height": null,
      "max_width": null,
      "min_height": null,
      "min_width": null,
      "object_fit": null,
      "object_position": null,
      "order": null,
      "overflow": null,
      "overflow_x": null,
      "overflow_y": null,
      "padding": null,
      "right": null,
      "top": null,
      "visibility": null,
      "width": null
     }
    },
    "2df30ce9f7a545b281b2993ffcb3b805": {
     "model_module": "@jupyter-widgets/controls",
     "model_module_version": "1.5.0",
     "model_name": "FloatProgressModel",
     "state": {
      "_dom_classes": [],
      "_model_module": "@jupyter-widgets/controls",
      "_model_module_version": "1.5.0",
      "_model_name": "FloatProgressModel",
      "_view_count": null,
      "_view_module": "@jupyter-widgets/controls",
      "_view_module_version": "1.5.0",
      "_view_name": "ProgressView",
      "bar_style": "success",
      "description": "",
      "description_tooltip": null,
      "layout": "IPY_MODEL_6942d19eb89d4f928ebc52164f784f2c",
      "max": 53527,
      "min": 0,
      "orientation": "horizontal",
      "style": "IPY_MODEL_d8be2600fee44b98b2801e112afbc78d",
      "value": 53527
     }
    },
    "33c08847c63c4f16bae187603fce606c": {
     "model_module": "@jupyter-widgets/controls",
     "model_module_version": "1.5.0",
     "model_name": "DescriptionStyleModel",
     "state": {
      "_model_module": "@jupyter-widgets/controls",
      "_model_module_version": "1.5.0",
      "_model_name": "DescriptionStyleModel",
      "_view_count": null,
      "_view_module": "@jupyter-widgets/base",
      "_view_module_version": "1.2.0",
      "_view_name": "StyleView",
      "description_width": ""
     }
    },
    "43babae420bb45a7bb9096817caa9a2f": {
     "model_module": "@jupyter-widgets/controls",
     "model_module_version": "1.5.0",
     "model_name": "HTMLModel",
     "state": {
      "_dom_classes": [],
      "_model_module": "@jupyter-widgets/controls",
      "_model_module_version": "1.5.0",
      "_model_name": "HTMLModel",
      "_view_count": null,
      "_view_module": "@jupyter-widgets/controls",
      "_view_module_version": "1.5.0",
      "_view_name": "HTMLView",
      "description": "",
      "description_tooltip": null,
      "layout": "IPY_MODEL_c09fb6d9ece24cc4870f4c143bedcee5",
      "placeholder": "​",
      "style": "IPY_MODEL_33c08847c63c4f16bae187603fce606c",
      "value": "Downloading https://huggingface.co/stanfordnlp/stanza-en/resolve/v1.10.0/models/default.zip: 100%"
     }
    },
    "4722d221c42b4cf4b0fa8ca550974f6c": {
     "model_module": "@jupyter-widgets/controls",
     "model_module_version": "1.5.0",
     "model_name": "FloatProgressModel",
     "state": {
      "_dom_classes": [],
      "_model_module": "@jupyter-widgets/controls",
      "_model_module_version": "1.5.0",
      "_model_name": "FloatProgressModel",
      "_view_count": null,
      "_view_module": "@jupyter-widgets/controls",
      "_view_module_version": "1.5.0",
      "_view_name": "ProgressView",
      "bar_style": "success",
      "description": "",
      "description_tooltip": null,
      "layout": "IPY_MODEL_d140684b830a4aeea64298a166a6b6b9",
      "max": 526251983,
      "min": 0,
      "orientation": "horizontal",
      "style": "IPY_MODEL_17711b2874a2425694578c198fcb172a",
      "value": 526251983
     }
    },
    "476f9e6bf4d048068efbfab672c37945": {
     "model_module": "@jupyter-widgets/controls",
     "model_module_version": "1.5.0",
     "model_name": "DescriptionStyleModel",
     "state": {
      "_model_module": "@jupyter-widgets/controls",
      "_model_module_version": "1.5.0",
      "_model_name": "DescriptionStyleModel",
      "_view_count": null,
      "_view_module": "@jupyter-widgets/base",
      "_view_module_version": "1.2.0",
      "_view_name": "StyleView",
      "description_width": ""
     }
    },
    "6942d19eb89d4f928ebc52164f784f2c": {
     "model_module": "@jupyter-widgets/base",
     "model_module_version": "1.2.0",
     "model_name": "LayoutModel",
     "state": {
      "_model_module": "@jupyter-widgets/base",
      "_model_module_version": "1.2.0",
      "_model_name": "LayoutModel",
      "_view_count": null,
      "_view_module": "@jupyter-widgets/base",
      "_view_module_version": "1.2.0",
      "_view_name": "LayoutView",
      "align_content": null,
      "align_items": null,
      "align_self": null,
      "border": null,
      "bottom": null,
      "display": null,
      "flex": null,
      "flex_flow": null,
      "grid_area": null,
      "grid_auto_columns": null,
      "grid_auto_flow": null,
      "grid_auto_rows": null,
      "grid_column": null,
      "grid_gap": null,
      "grid_row": null,
      "grid_template_areas": null,
      "grid_template_columns": null,
      "grid_template_rows": null,
      "height": null,
      "justify_content": null,
      "justify_items": null,
      "left": null,
      "margin": null,
      "max_height": null,
      "max_width": null,
      "min_height": null,
      "min_width": null,
      "object_fit": null,
      "object_position": null,
      "order": null,
      "overflow": null,
      "overflow_x": null,
      "overflow_y": null,
      "padding": null,
      "right": null,
      "top": null,
      "visibility": null,
      "width": null
     }
    },
    "6b48b1ae0ecf4146a5cec09bb8e9c1d4": {
     "model_module": "@jupyter-widgets/controls",
     "model_module_version": "1.5.0",
     "model_name": "HBoxModel",
     "state": {
      "_dom_classes": [],
      "_model_module": "@jupyter-widgets/controls",
      "_model_module_version": "1.5.0",
      "_model_name": "HBoxModel",
      "_view_count": null,
      "_view_module": "@jupyter-widgets/controls",
      "_view_module_version": "1.5.0",
      "_view_name": "HBoxView",
      "box_style": "",
      "children": [
       "IPY_MODEL_43babae420bb45a7bb9096817caa9a2f",
       "IPY_MODEL_4722d221c42b4cf4b0fa8ca550974f6c",
       "IPY_MODEL_fb6bd8ec55c94383ad3b0aad0912dd80"
      ],
      "layout": "IPY_MODEL_de41d210f46d4fdaa9a3783c9588aeba"
     }
    },
    "85c550d0bc3d426d9da1cbb1de38f8dd": {
     "model_module": "@jupyter-widgets/controls",
     "model_module_version": "1.5.0",
     "model_name": "DescriptionStyleModel",
     "state": {
      "_model_module": "@jupyter-widgets/controls",
      "_model_module_version": "1.5.0",
      "_model_name": "DescriptionStyleModel",
      "_view_count": null,
      "_view_module": "@jupyter-widgets/base",
      "_view_module_version": "1.2.0",
      "_view_name": "StyleView",
      "description_width": ""
     }
    },
    "875991ddb477446c9db1c5f8922ae970": {
     "model_module": "@jupyter-widgets/controls",
     "model_module_version": "1.5.0",
     "model_name": "HBoxModel",
     "state": {
      "_dom_classes": [],
      "_model_module": "@jupyter-widgets/controls",
      "_model_module_version": "1.5.0",
      "_model_name": "HBoxModel",
      "_view_count": null,
      "_view_module": "@jupyter-widgets/controls",
      "_view_module_version": "1.5.0",
      "_view_name": "HBoxView",
      "box_style": "",
      "children": [
       "IPY_MODEL_112882b7d4664814b8a7df0b2867bf40",
       "IPY_MODEL_2df30ce9f7a545b281b2993ffcb3b805",
       "IPY_MODEL_f4840568c2c84eae80a1adc01920a431"
      ],
      "layout": "IPY_MODEL_14d1bb7562c942f9b6f4c29c843b2ff8"
     }
    },
    "b59b0d68ae8a4ba68848bd8a06159139": {
     "model_module": "@jupyter-widgets/controls",
     "model_module_version": "1.5.0",
     "model_name": "DescriptionStyleModel",
     "state": {
      "_model_module": "@jupyter-widgets/controls",
      "_model_module_version": "1.5.0",
      "_model_name": "DescriptionStyleModel",
      "_view_count": null,
      "_view_module": "@jupyter-widgets/base",
      "_view_module_version": "1.2.0",
      "_view_name": "StyleView",
      "description_width": ""
     }
    },
    "c09fb6d9ece24cc4870f4c143bedcee5": {
     "model_module": "@jupyter-widgets/base",
     "model_module_version": "1.2.0",
     "model_name": "LayoutModel",
     "state": {
      "_model_module": "@jupyter-widgets/base",
      "_model_module_version": "1.2.0",
      "_model_name": "LayoutModel",
      "_view_count": null,
      "_view_module": "@jupyter-widgets/base",
      "_view_module_version": "1.2.0",
      "_view_name": "LayoutView",
      "align_content": null,
      "align_items": null,
      "align_self": null,
      "border": null,
      "bottom": null,
      "display": null,
      "flex": null,
      "flex_flow": null,
      "grid_area": null,
      "grid_auto_columns": null,
      "grid_auto_flow": null,
      "grid_auto_rows": null,
      "grid_column": null,
      "grid_gap": null,
      "grid_row": null,
      "grid_template_areas": null,
      "grid_template_columns": null,
      "grid_template_rows": null,
      "height": null,
      "justify_content": null,
      "justify_items": null,
      "left": null,
      "margin": null,
      "max_height": null,
      "max_width": null,
      "min_height": null,
      "min_width": null,
      "object_fit": null,
      "object_position": null,
      "order": null,
      "overflow": null,
      "overflow_x": null,
      "overflow_y": null,
      "padding": null,
      "right": null,
      "top": null,
      "visibility": null,
      "width": null
     }
    },
    "d140684b830a4aeea64298a166a6b6b9": {
     "model_module": "@jupyter-widgets/base",
     "model_module_version": "1.2.0",
     "model_name": "LayoutModel",
     "state": {
      "_model_module": "@jupyter-widgets/base",
      "_model_module_version": "1.2.0",
      "_model_name": "LayoutModel",
      "_view_count": null,
      "_view_module": "@jupyter-widgets/base",
      "_view_module_version": "1.2.0",
      "_view_name": "LayoutView",
      "align_content": null,
      "align_items": null,
      "align_self": null,
      "border": null,
      "bottom": null,
      "display": null,
      "flex": null,
      "flex_flow": null,
      "grid_area": null,
      "grid_auto_columns": null,
      "grid_auto_flow": null,
      "grid_auto_rows": null,
      "grid_column": null,
      "grid_gap": null,
      "grid_row": null,
      "grid_template_areas": null,
      "grid_template_columns": null,
      "grid_template_rows": null,
      "height": null,
      "justify_content": null,
      "justify_items": null,
      "left": null,
      "margin": null,
      "max_height": null,
      "max_width": null,
      "min_height": null,
      "min_width": null,
      "object_fit": null,
      "object_position": null,
      "order": null,
      "overflow": null,
      "overflow_x": null,
      "overflow_y": null,
      "padding": null,
      "right": null,
      "top": null,
      "visibility": null,
      "width": null
     }
    },
    "d8be2600fee44b98b2801e112afbc78d": {
     "model_module": "@jupyter-widgets/controls",
     "model_module_version": "1.5.0",
     "model_name": "ProgressStyleModel",
     "state": {
      "_model_module": "@jupyter-widgets/controls",
      "_model_module_version": "1.5.0",
      "_model_name": "ProgressStyleModel",
      "_view_count": null,
      "_view_module": "@jupyter-widgets/base",
      "_view_module_version": "1.2.0",
      "_view_name": "StyleView",
      "bar_color": null,
      "description_width": ""
     }
    },
    "dbf81c1a77b349508d2c9dbd8905e735": {
     "model_module": "@jupyter-widgets/base",
     "model_module_version": "1.2.0",
     "model_name": "LayoutModel",
     "state": {
      "_model_module": "@jupyter-widgets/base",
      "_model_module_version": "1.2.0",
      "_model_name": "LayoutModel",
      "_view_count": null,
      "_view_module": "@jupyter-widgets/base",
      "_view_module_version": "1.2.0",
      "_view_name": "LayoutView",
      "align_content": null,
      "align_items": null,
      "align_self": null,
      "border": null,
      "bottom": null,
      "display": null,
      "flex": null,
      "flex_flow": null,
      "grid_area": null,
      "grid_auto_columns": null,
      "grid_auto_flow": null,
      "grid_auto_rows": null,
      "grid_column": null,
      "grid_gap": null,
      "grid_row": null,
      "grid_template_areas": null,
      "grid_template_columns": null,
      "grid_template_rows": null,
      "height": null,
      "justify_content": null,
      "justify_items": null,
      "left": null,
      "margin": null,
      "max_height": null,
      "max_width": null,
      "min_height": null,
      "min_width": null,
      "object_fit": null,
      "object_position": null,
      "order": null,
      "overflow": null,
      "overflow_x": null,
      "overflow_y": null,
      "padding": null,
      "right": null,
      "top": null,
      "visibility": null,
      "width": null
     }
    },
    "de41d210f46d4fdaa9a3783c9588aeba": {
     "model_module": "@jupyter-widgets/base",
     "model_module_version": "1.2.0",
     "model_name": "LayoutModel",
     "state": {
      "_model_module": "@jupyter-widgets/base",
      "_model_module_version": "1.2.0",
      "_model_name": "LayoutModel",
      "_view_count": null,
      "_view_module": "@jupyter-widgets/base",
      "_view_module_version": "1.2.0",
      "_view_name": "LayoutView",
      "align_content": null,
      "align_items": null,
      "align_self": null,
      "border": null,
      "bottom": null,
      "display": null,
      "flex": null,
      "flex_flow": null,
      "grid_area": null,
      "grid_auto_columns": null,
      "grid_auto_flow": null,
      "grid_auto_rows": null,
      "grid_column": null,
      "grid_gap": null,
      "grid_row": null,
      "grid_template_areas": null,
      "grid_template_columns": null,
      "grid_template_rows": null,
      "height": null,
      "justify_content": null,
      "justify_items": null,
      "left": null,
      "margin": null,
      "max_height": null,
      "max_width": null,
      "min_height": null,
      "min_width": null,
      "object_fit": null,
      "object_position": null,
      "order": null,
      "overflow": null,
      "overflow_x": null,
      "overflow_y": null,
      "padding": null,
      "right": null,
      "top": null,
      "visibility": null,
      "width": null
     }
    },
    "f4840568c2c84eae80a1adc01920a431": {
     "model_module": "@jupyter-widgets/controls",
     "model_module_version": "1.5.0",
     "model_name": "HTMLModel",
     "state": {
      "_dom_classes": [],
      "_model_module": "@jupyter-widgets/controls",
      "_model_module_version": "1.5.0",
      "_model_name": "HTMLModel",
      "_view_count": null,
      "_view_module": "@jupyter-widgets/controls",
      "_view_module_version": "1.5.0",
      "_view_name": "HTMLView",
      "description": "",
      "description_tooltip": null,
      "layout": "IPY_MODEL_dbf81c1a77b349508d2c9dbd8905e735",
      "placeholder": "​",
      "style": "IPY_MODEL_b59b0d68ae8a4ba68848bd8a06159139",
      "value": " 433k/? [00:00&lt;00:00, 23.7MB/s]"
     }
    },
    "fb6bd8ec55c94383ad3b0aad0912dd80": {
     "model_module": "@jupyter-widgets/controls",
     "model_module_version": "1.5.0",
     "model_name": "HTMLModel",
     "state": {
      "_dom_classes": [],
      "_model_module": "@jupyter-widgets/controls",
      "_model_module_version": "1.5.0",
      "_model_name": "HTMLModel",
      "_view_count": null,
      "_view_module": "@jupyter-widgets/controls",
      "_view_module_version": "1.5.0",
      "_view_name": "HTMLView",
      "description": "",
      "description_tooltip": null,
      "layout": "IPY_MODEL_ff7917671d904affb2f018884f5ad6f2",
      "placeholder": "​",
      "style": "IPY_MODEL_85c550d0bc3d426d9da1cbb1de38f8dd",
      "value": " 526M/526M [00:02&lt;00:00, 214MB/s]"
     }
    },
    "ff7917671d904affb2f018884f5ad6f2": {
     "model_module": "@jupyter-widgets/base",
     "model_module_version": "1.2.0",
     "model_name": "LayoutModel",
     "state": {
      "_model_module": "@jupyter-widgets/base",
      "_model_module_version": "1.2.0",
      "_model_name": "LayoutModel",
      "_view_count": null,
      "_view_module": "@jupyter-widgets/base",
      "_view_module_version": "1.2.0",
      "_view_name": "LayoutView",
      "align_content": null,
      "align_items": null,
      "align_self": null,
      "border": null,
      "bottom": null,
      "display": null,
      "flex": null,
      "flex_flow": null,
      "grid_area": null,
      "grid_auto_columns": null,
      "grid_auto_flow": null,
      "grid_auto_rows": null,
      "grid_column": null,
      "grid_gap": null,
      "grid_row": null,
      "grid_template_areas": null,
      "grid_template_columns": null,
      "grid_template_rows": null,
      "height": null,
      "justify_content": null,
      "justify_items": null,
      "left": null,
      "margin": null,
      "max_height": null,
      "max_width": null,
      "min_height": null,
      "min_width": null,
      "object_fit": null,
      "object_position": null,
      "order": null,
      "overflow": null,
      "overflow_x": null,
      "overflow_y": null,
      "padding": null,
      "right": null,
      "top": null,
      "visibility": null,
      "width": null
     }
    }
   }
  }
 },
 "nbformat": 4,
 "nbformat_minor": 0
}
