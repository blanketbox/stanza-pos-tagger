{
  "cells": [
    {
      "cell_type": "markdown",
      "metadata": {
        "id": "_xKpZHBAAcX6"
      },
      "source": [
        "# Part-of-speech-tagging with *stanza*\n",
        "\n"
      ]
    },
    {
      "cell_type": "markdown",
      "metadata": {
        "id": "CNBto5PnDhU5"
      },
      "source": [
        "This is a Python notebook for pos-tagging that is meant to be used in Google Colab.\n",
        "\n",
        "The following code will use the Python library *stanza* to tokenize and annotate text.\n",
        "\n",
        "Further information on *stanza*:\n",
        "\n",
        "*   How to use *stanza*: https://stanfordnlp.github.io/stanza/index.html\n",
        "*   The paper on *stanza*: https://aclanthology.org/2020.acl-demos.14/\n",
        "\n",
        "This code is written specifically to ignore XML-tags that is to print them unchanged and only tokenize and annotate raw text. This is ideal for use with the IMS Open Corpus Workbench where XML-tags provide metadata on each text and should not be annotated.\n",
        "\n",
        "In theory, you can use this notebook locally on your computer with the necessary dependencies (e.g. Jupyter Notebooks). In that case, you cannot use any commands specific to Google Colab. You will likely also not have a suitable GPU that will make your code run faster."
      ]
    },
    {
      "cell_type": "markdown",
      "metadata": {
        "id": "wrpKIiDPAlD2"
      },
      "source": [
        "## Use the GPU\n",
        "Be sure to set the runtime in Google Colab to a GPU, so the code will run faster. This makes a huge difference with large files!\n",
        "\n",
        "Google Colab will not select a GPU by default. To change to a GPU in Google Colab, click on **Runtime** above, select **Change runtime type** and select a GPU. Your notebook will disconnect and reconnect, so you may have to rerun cells.\n",
        "\n",
        "Google Colab may limit the number of times you can use a GPU per day, but this should not be a problem, as the code works on the default settings (CPU) as well."
      ]
    },
    {
      "cell_type": "markdown",
      "metadata": {
        "id": "naXS8Cd_HE0W"
      },
      "source": [
        "## Install and import *stanza*\n"
      ]
    },
    {
      "cell_type": "markdown",
      "metadata": {
        "id": "Bd0xIsBnfv1M"
      },
      "source": [
        "...and other necessary modules."
      ]
    },
    {
      "cell_type": "code",
      "execution_count": null,
      "metadata": {
        "colab": {
          "base_uri": "https://localhost:8080/"
        },
        "collapsed": true,
        "id": "oaD27jIcrU8x",
        "outputId": "ba571d05-1de4-451f-ec93-5ba19a095879"
      },
      "outputs": [],
      "source": [
        "!pip install stanza"
      ]
    },
    {
      "cell_type": "code",
      "execution_count": 2,
      "metadata": {
        "id": "-Pa3kRex9Rm4"
      },
      "outputs": [],
      "source": [
        "import stanza\n",
        "import re\n",
        "import os"
      ]
    },
    {
      "cell_type": "markdown",
      "metadata": {
        "id": "aMruJMMU_HxO"
      },
      "source": [
        "## Download the language model for English"
      ]
    },
    {
      "cell_type": "code",
      "execution_count": null,
      "metadata": {
        "colab": {
          "base_uri": "https://localhost:8080/",
          "height": 172,
          "referenced_widgets": [
            "28288a0d0994434ca53c35d97c4bc8ce",
            "64e3576a4af844f4abd677c419fc2ffa",
            "60a8c99d8b5b4f669376106a10cb73ae",
            "f237bff89735480c8f39292ad68ea17d",
            "f49c6c5e5ab84bd6a8a325d2f8c4e655",
            "253a8086e0fa48fc82681b3163e139d1",
            "1de325164a3d43bc999d8f429fc8ec4d",
            "5513796c60534e359df3afb409078db5",
            "fa50002183d844eaa68a71533263c3ee",
            "342319e93aec4948961f5e2d77e279ab",
            "c43fe4c365014b6bb8514030eaf1edc2",
            "ec2c41a7df554f1c924d898dd30624a9",
            "44dc675d6f41435b9f90a4e97fdde843",
            "cba403fb91f3429290472c12d4789c54",
            "21817fe1da824dbfbbd5cefab1ee02f5",
            "56f6ced3bd1440e4876207d3d66a427f",
            "506508134b4f422196044b01a7e2484a",
            "42b3bbcccd3d4113a4ee457a95a21f34",
            "61ecf526f5f94e98b877c6fddd3270e3",
            "59d313ceffc2489d9314c3871f01c25c",
            "2e914e2fa86b47faa32e3936228c50a6",
            "904476641b8540c98b27be497f7055ea"
          ]
        },
        "collapsed": true,
        "id": "elM__ka--kwH",
        "outputId": "cce06ac8-7413-4e9c-d779-98fa914dd604"
      },
      "outputs": [],
      "source": [
        "stanza.download(\"en\")\n",
        "print(\"Language model downloaded\")\n",
        "nlp = stanza.Pipeline(\"en\", processors=\"tokenize, lemma, pos\", verbose=False, use_gpu=True)"
      ]
    },
    {
      "cell_type": "markdown",
      "metadata": {
        "id": "zQCudFTWXd5Q"
      },
      "source": [
        "For other languages and their corresponding codes (lcode), please see this list: https://stanfordnlp.github.io/stanza/performance.html\n",
        "For example, for German, replace \"en\" with \"de\" or, for Dutch, use \"nl\"."
      ]
    },
    {
      "cell_type": "markdown",
      "metadata": {
        "id": "gbbxDuhCdbaJ"
      },
      "source": [
        "## Verify that you're using a GPU"
      ]
    },
    {
      "cell_type": "markdown",
      "metadata": {
        "id": "q912qQe8XONj"
      },
      "source": [
        "Depending on whether the GPU is active or not, the output of this cell should be ```True``` or ```False```."
      ]
    },
    {
      "cell_type": "code",
      "execution_count": null,
      "metadata": {
        "colab": {
          "base_uri": "https://localhost:8080/"
        },
        "id": "Piqd16HidZf-",
        "outputId": "545efd55-5238-4a09-dfea-68d17290ad96"
      },
      "outputs": [],
      "source": [
        "import torch\n",
        "\n",
        "torch.cuda.is_available()"
      ]
    },
    {
      "cell_type": "markdown",
      "metadata": {
        "id": "icOqe5y3BNMG"
      },
      "source": [
        "## Test the tagger with shorter texts\n",
        "\n",
        "You may find this useful to gain an impression of how well the tagger performs with your type of text – a song by Snoop Dogg and Dr. Dre, for example."
      ]
    },
    {
      "cell_type": "code",
      "execution_count": 4,
      "metadata": {
        "id": "HAQKP83j9i2Z"
      },
      "outputs": [],
      "source": [
        "# Run this cell to set the sample text\n",
        "\n",
        "sample = \"\"\"\n",
        "\n",
        "And even when I was close to defeat, I rose to my feet\n",
        "My life's like a soundtrack I wrote to the beat\n",
        "Treat rap like Cali weed: I smoke 'til I'm 'sleep\n",
        "Wake up in the A.M., compose a beat\n",
        "I bring the fire 'til you're soakin' in your seat\n",
        "\n",
        "\"\"\""
      ]
    },
    {
      "cell_type": "markdown",
      "metadata": {
        "id": "eZawzfYg_gqc"
      },
      "source": [
        "Stanza will print each **token**, the **PENN Treebank tag** (xpos), the corresponding **Universal Dependencies tag** (pos), and the **lemma** (lemma) in all lowercase letters on a new line.\n",
        "\n",
        "See here for further information on the tagsets:\n",
        "\n",
        "*   **Universal Dependencies Tagset**: https://universaldependencies.org/u/pos\n",
        "*   **PENN Treebank Tagset**: https://www.ling.upenn.edu/courses/Fall_2003/ling001/penn_treebank_pos.html\n",
        "\n",
        "\n",
        "The output will be a tab-separated list, with each token on a separate line.\n"
      ]
    },
    {
      "cell_type": "code",
      "execution_count": null,
      "metadata": {
        "colab": {
          "base_uri": "https://localhost:8080/"
        },
        "collapsed": true,
        "id": "YFLhGXfD88IC",
        "outputId": "db7548d4-bb8e-408a-fa3d-50e0405b069a"
      },
      "outputs": [],
      "source": [
        "# Run this to cell to tag the sample text\n",
        "\n",
        "def tag_text(text):\n",
        "  # pattern to split XML tags and non-tags\n",
        "  # group 1: XML tags, group 2: non-tag text\n",
        "  parts = re.findall(r'(<[^>]+>)|([^<]+)', text)\n",
        "\n",
        "\n",
        "  for tag, text in parts:\n",
        "      if tag:\n",
        "          # it's an XML tag, so write it unchanged\n",
        "          print(tag + \"\\n\")\n",
        "      elif text:\n",
        "          # it's text content, so lemmatize, clean and write\n",
        "          doc = nlp(text)\n",
        "\n",
        "          for sentence in doc.sentences:\n",
        "              for word in sentence.words:\n",
        "                  print(f\"{word.text}\\t{word.xpos}\\t{word.pos}\\t{word.lemma.lower()}\\n\")\n",
        "\n",
        "\n",
        "tag_text(sample)"
      ]
    },
    {
      "cell_type": "markdown",
      "metadata": {
        "id": "DtmFezjMHi4g"
      },
      "source": [
        "## Use the tagger with a text file\n",
        "\n"
      ]
    },
    {
      "cell_type": "markdown",
      "metadata": {
        "id": "6jhWy-_lJOPG"
      },
      "source": [
        "### Option 1: Upload the file directly to this Google Colab notebook\n",
        "\n",
        "Click on the folder icon on the lefthand side, then click on the file icon with the upward arrow to upload a file from your computer.\n",
        "\n",
        "Be aware that all your files uploaded to this project will be deleted once this runtime disconnects, e.g. if it has been inactive for a while."
      ]
    },
    {
      "cell_type": "code",
      "execution_count": null,
      "metadata": {
        "colab": {
          "base_uri": "https://localhost:8080/"
        },
        "collapsed": true,
        "id": "Iu3WHzKBJ6df",
        "outputId": "3a266f47-9ff7-4a14-b823-2b4dc347b03e"
      },
      "outputs": [],
      "source": [
        "# this command shows you the current working directory\n",
        "print(\"You're currently in the folder:\")\n",
        "!pwd\n",
        "\n",
        "#this command lists all the file in your current working directory\n",
        "print(f\"The current contents of the folder are:\")\n",
        "!ls"
      ]
    },
    {
      "cell_type": "markdown",
      "metadata": {
        "id": "vdY05c5dMuLA"
      },
      "source": [
        "When inserting the name of your file in the cell below, please include the file extension as well. For a file named \"test.txt\", the extension would be \".txt\".\n",
        "\n",
        "Make sure that the file name is correct and does not contain whitespace on either side."
      ]
    },
    {
      "cell_type": "code",
      "execution_count": 40,
      "metadata": {
        "id": "Mtp-CLcSMrie"
      },
      "outputs": [],
      "source": [
        "# Insert the name of your file inside the quotation marks\n",
        "input_file = \"test.txt\""
      ]
    },
    {
      "cell_type": "code",
      "execution_count": 41,
      "metadata": {
        "id": "M43BvlGlKEqW"
      },
      "outputs": [],
      "source": [
        "input_file = f\"/content/{input_file}\"\n",
        "\n",
        "name, ext = os.path.splitext(input_file)\n",
        "output_file = name + \".vrt\""
      ]
    },
    {
      "cell_type": "markdown",
      "metadata": {
        "id": "0naoDPctPNK6"
      },
      "source": [
        "### Option 2: Connect this notebook to your Google Drive account\n",
        "\n",
        "If you run this cell, a window should open, asking for permission. If you grant it, another window will have you select the Gooogle Drive account and specify which permissions to grant. You need to allow the notebook to open, read, edit and delete files. This will likely be only one tick box.\n",
        "\n",
        "If everything worked, the output of the cell should say: ```Mounted at /content/drive```."
      ]
    },
    {
      "cell_type": "code",
      "execution_count": null,
      "metadata": {
        "colab": {
          "base_uri": "https://localhost:8080/"
        },
        "id": "qXrQ2OTi691o",
        "outputId": "bb678c56-ebbd-4579-bfff-5ba87b6e7934"
      },
      "outputs": [],
      "source": [
        "from google.colab import drive\n",
        "drive.mount(\"/content/drive\")"
      ]
    },
    {
      "cell_type": "markdown",
      "metadata": {
        "id": "AFzOSrHWOj4c"
      },
      "source": [
        "If your file is saved in your Google Drive, the notebook can access it with the following cells.\n",
        "\n",
        "**The file itself will not be changed!** It will only be opened in read-mode \"r\", meaning its contents will be read. The notebook will produce a new file with the tagged text.\n",
        "\n",
        "When inserting the name of your file in the cell below, please include the file extension as well. For a file named \"test.txt\", the extension would be \".txt\". Make sure that the file name is correct and does not contain whitespace on either side.\n"
      ]
    },
    {
      "cell_type": "code",
      "execution_count": 38,
      "metadata": {
        "id": "4UBtu4CoKzwW"
      },
      "outputs": [],
      "source": [
        "# Insert the name of your file inside the quotation marks\n",
        "input_file = \"test.txt\""
      ]
    },
    {
      "cell_type": "code",
      "execution_count": 43,
      "metadata": {
        "id": "YJl4h-RyKNPr"
      },
      "outputs": [],
      "source": [
        "input_file = f\"/content/drive/My Drive/{input_file}\"\n",
        "\n",
        "name, ext = os.path.splitext(input_file)\n",
        "output_file = name + \".vrt\""
      ]
    },
    {
      "cell_type": "markdown",
      "metadata": {
        "id": "Z7gKMeQ4JtGv"
      },
      "source": [
        "## Tag your file"
      ]
    },
    {
      "cell_type": "markdown",
      "metadata": {
        "id": "gbDKwAO4VCws"
      },
      "source": [
        "With Google Colab set to use the GPU, this code will approximately need 6-7 minutes to tokenize and annotate a file with over 100.000 tokens.\n",
        "\n",
        "Be aware that the following code will **automatically download** the created file to your computer, unless the indicated line is commented out. It is advised that the file be immediately downloaded, because all files will be deleted as soon as the runtime disconnects (e.g. if the notebook has been inactive for a while).\n",
        "\n",
        "The downloaded file will have the name of the original input file with the extension changed to \".vrt\" (VeRTicalized file). This is just a normal text file that can be opened with any editor. Find out more here: https://fedora.clarin-d.uni-saarland.de/teaching/Comparing_Corpora_Tutorials/Tutorial_VRT.html\n",
        "\n",
        "As said before, Stanza will print each **token**, the **PENN Treebank tag** (xpos), the corresponding **Universal Dependencies tag** (pos), and the **lemma** (lemma) in all lowercase letters on a new line.\n"
      ]
    },
    {
      "cell_type": "code",
      "execution_count": null,
      "metadata": {
        "colab": {
          "base_uri": "https://localhost:8080/",
          "height": 54
        },
        "id": "9me9n77kInpn",
        "outputId": "6e8c3cf1-ae7c-4bf2-b258-32c32da46f10"
      },
      "outputs": [],
      "source": [
        "# Run this cell to tag the file\n",
        "\n",
        "from google.colab import files\n",
        "\n",
        "\n",
        "def tag_file(input_file, output_file):\n",
        "\n",
        "    with open(input_file, \"r\") as input_file:\n",
        "      content = input_file.read()\n",
        "\n",
        "    # pattern to split XML tags and non-tags\n",
        "    # group 1: XML tags, group 2: non-tag text\n",
        "    parts = re.findall(r'(<[^>]+>)|([^<]+)', content)\n",
        "\n",
        "\n",
        "    with open(output_file, \"w\", encoding=\"utf-8\") as out:\n",
        "        for tag, text in parts:\n",
        "            # print(tag, text)\n",
        "            if tag:\n",
        "                # it's an XML tag, so write it unchanged\n",
        "                out.write(tag + \"\\n\")\n",
        "            elif text:\n",
        "                # it's text content, so lemmatize, clean and write\n",
        "                doc = nlp(text)\n",
        "\n",
        "                for sentence in doc.sentences:\n",
        "                    for word in sentence.words:\n",
        "                        out.write(\n",
        "                            f\"{word.text}\\t{word.xpos}\\t{word.pos}\\t{word.lemma.lower()}\\n\")\n",
        "\n",
        "    return f\"Lemmatized text written to {output_file}.\"\n",
        "\n",
        "\n",
        "print(tag_file(input_file=input_file, output_file=output_file))\n",
        "\n",
        "# download the output file to your computer\n",
        "files.download(output_file)\n",
        "\n",
        "print(f\"{output_file} downloaded.\")"
      ]
    },
    {
      "cell_type": "markdown",
      "metadata": {
        "id": "7jKV-heKRNJL"
      },
      "source": []
    }
  ],
  "metadata": {
    "colab": {
      "provenance": []
    },
    "kernelspec": {
      "display_name": "Python 3",
      "name": "python3"
    },
    "language_info": {
      "name": "python"
    },
    "widgets": {
      "application/vnd.jupyter.widget-state+json": {
        "1de325164a3d43bc999d8f429fc8ec4d": {
          "model_module": "@jupyter-widgets/controls",
          "model_module_version": "1.5.0",
          "model_name": "DescriptionStyleModel",
          "state": {
            "_model_module": "@jupyter-widgets/controls",
            "_model_module_version": "1.5.0",
            "_model_name": "DescriptionStyleModel",
            "_view_count": null,
            "_view_module": "@jupyter-widgets/base",
            "_view_module_version": "1.2.0",
            "_view_name": "StyleView",
            "description_width": ""
          }
        },
        "21817fe1da824dbfbbd5cefab1ee02f5": {
          "model_module": "@jupyter-widgets/controls",
          "model_module_version": "1.5.0",
          "model_name": "HTMLModel",
          "state": {
            "_dom_classes": [],
            "_model_module": "@jupyter-widgets/controls",
            "_model_module_version": "1.5.0",
            "_model_name": "HTMLModel",
            "_view_count": null,
            "_view_module": "@jupyter-widgets/controls",
            "_view_module_version": "1.5.0",
            "_view_name": "HTMLView",
            "description": "",
            "description_tooltip": null,
            "layout": "IPY_MODEL_2e914e2fa86b47faa32e3936228c50a6",
            "placeholder": "​",
            "style": "IPY_MODEL_904476641b8540c98b27be497f7055ea",
            "value": " 526M/526M [00:02&lt;00:00, 259MB/s]"
          }
        },
        "253a8086e0fa48fc82681b3163e139d1": {
          "model_module": "@jupyter-widgets/base",
          "model_module_version": "1.2.0",
          "model_name": "LayoutModel",
          "state": {
            "_model_module": "@jupyter-widgets/base",
            "_model_module_version": "1.2.0",
            "_model_name": "LayoutModel",
            "_view_count": null,
            "_view_module": "@jupyter-widgets/base",
            "_view_module_version": "1.2.0",
            "_view_name": "LayoutView",
            "align_content": null,
            "align_items": null,
            "align_self": null,
            "border": null,
            "bottom": null,
            "display": null,
            "flex": null,
            "flex_flow": null,
            "grid_area": null,
            "grid_auto_columns": null,
            "grid_auto_flow": null,
            "grid_auto_rows": null,
            "grid_column": null,
            "grid_gap": null,
            "grid_row": null,
            "grid_template_areas": null,
            "grid_template_columns": null,
            "grid_template_rows": null,
            "height": null,
            "justify_content": null,
            "justify_items": null,
            "left": null,
            "margin": null,
            "max_height": null,
            "max_width": null,
            "min_height": null,
            "min_width": null,
            "object_fit": null,
            "object_position": null,
            "order": null,
            "overflow": null,
            "overflow_x": null,
            "overflow_y": null,
            "padding": null,
            "right": null,
            "top": null,
            "visibility": null,
            "width": null
          }
        },
        "28288a0d0994434ca53c35d97c4bc8ce": {
          "model_module": "@jupyter-widgets/controls",
          "model_module_version": "1.5.0",
          "model_name": "HBoxModel",
          "state": {
            "_dom_classes": [],
            "_model_module": "@jupyter-widgets/controls",
            "_model_module_version": "1.5.0",
            "_model_name": "HBoxModel",
            "_view_count": null,
            "_view_module": "@jupyter-widgets/controls",
            "_view_module_version": "1.5.0",
            "_view_name": "HBoxView",
            "box_style": "",
            "children": [
              "IPY_MODEL_64e3576a4af844f4abd677c419fc2ffa",
              "IPY_MODEL_60a8c99d8b5b4f669376106a10cb73ae",
              "IPY_MODEL_f237bff89735480c8f39292ad68ea17d"
            ],
            "layout": "IPY_MODEL_f49c6c5e5ab84bd6a8a325d2f8c4e655"
          }
        },
        "2e914e2fa86b47faa32e3936228c50a6": {
          "model_module": "@jupyter-widgets/base",
          "model_module_version": "1.2.0",
          "model_name": "LayoutModel",
          "state": {
            "_model_module": "@jupyter-widgets/base",
            "_model_module_version": "1.2.0",
            "_model_name": "LayoutModel",
            "_view_count": null,
            "_view_module": "@jupyter-widgets/base",
            "_view_module_version": "1.2.0",
            "_view_name": "LayoutView",
            "align_content": null,
            "align_items": null,
            "align_self": null,
            "border": null,
            "bottom": null,
            "display": null,
            "flex": null,
            "flex_flow": null,
            "grid_area": null,
            "grid_auto_columns": null,
            "grid_auto_flow": null,
            "grid_auto_rows": null,
            "grid_column": null,
            "grid_gap": null,
            "grid_row": null,
            "grid_template_areas": null,
            "grid_template_columns": null,
            "grid_template_rows": null,
            "height": null,
            "justify_content": null,
            "justify_items": null,
            "left": null,
            "margin": null,
            "max_height": null,
            "max_width": null,
            "min_height": null,
            "min_width": null,
            "object_fit": null,
            "object_position": null,
            "order": null,
            "overflow": null,
            "overflow_x": null,
            "overflow_y": null,
            "padding": null,
            "right": null,
            "top": null,
            "visibility": null,
            "width": null
          }
        },
        "342319e93aec4948961f5e2d77e279ab": {
          "model_module": "@jupyter-widgets/base",
          "model_module_version": "1.2.0",
          "model_name": "LayoutModel",
          "state": {
            "_model_module": "@jupyter-widgets/base",
            "_model_module_version": "1.2.0",
            "_model_name": "LayoutModel",
            "_view_count": null,
            "_view_module": "@jupyter-widgets/base",
            "_view_module_version": "1.2.0",
            "_view_name": "LayoutView",
            "align_content": null,
            "align_items": null,
            "align_self": null,
            "border": null,
            "bottom": null,
            "display": null,
            "flex": null,
            "flex_flow": null,
            "grid_area": null,
            "grid_auto_columns": null,
            "grid_auto_flow": null,
            "grid_auto_rows": null,
            "grid_column": null,
            "grid_gap": null,
            "grid_row": null,
            "grid_template_areas": null,
            "grid_template_columns": null,
            "grid_template_rows": null,
            "height": null,
            "justify_content": null,
            "justify_items": null,
            "left": null,
            "margin": null,
            "max_height": null,
            "max_width": null,
            "min_height": null,
            "min_width": null,
            "object_fit": null,
            "object_position": null,
            "order": null,
            "overflow": null,
            "overflow_x": null,
            "overflow_y": null,
            "padding": null,
            "right": null,
            "top": null,
            "visibility": null,
            "width": null
          }
        },
        "42b3bbcccd3d4113a4ee457a95a21f34": {
          "model_module": "@jupyter-widgets/controls",
          "model_module_version": "1.5.0",
          "model_name": "DescriptionStyleModel",
          "state": {
            "_model_module": "@jupyter-widgets/controls",
            "_model_module_version": "1.5.0",
            "_model_name": "DescriptionStyleModel",
            "_view_count": null,
            "_view_module": "@jupyter-widgets/base",
            "_view_module_version": "1.2.0",
            "_view_name": "StyleView",
            "description_width": ""
          }
        },
        "44dc675d6f41435b9f90a4e97fdde843": {
          "model_module": "@jupyter-widgets/controls",
          "model_module_version": "1.5.0",
          "model_name": "HTMLModel",
          "state": {
            "_dom_classes": [],
            "_model_module": "@jupyter-widgets/controls",
            "_model_module_version": "1.5.0",
            "_model_name": "HTMLModel",
            "_view_count": null,
            "_view_module": "@jupyter-widgets/controls",
            "_view_module_version": "1.5.0",
            "_view_name": "HTMLView",
            "description": "",
            "description_tooltip": null,
            "layout": "IPY_MODEL_506508134b4f422196044b01a7e2484a",
            "placeholder": "​",
            "style": "IPY_MODEL_42b3bbcccd3d4113a4ee457a95a21f34",
            "value": "Downloading https://huggingface.co/stanfordnlp/stanza-en/resolve/v1.10.0/models/default.zip: 100%"
          }
        },
        "506508134b4f422196044b01a7e2484a": {
          "model_module": "@jupyter-widgets/base",
          "model_module_version": "1.2.0",
          "model_name": "LayoutModel",
          "state": {
            "_model_module": "@jupyter-widgets/base",
            "_model_module_version": "1.2.0",
            "_model_name": "LayoutModel",
            "_view_count": null,
            "_view_module": "@jupyter-widgets/base",
            "_view_module_version": "1.2.0",
            "_view_name": "LayoutView",
            "align_content": null,
            "align_items": null,
            "align_self": null,
            "border": null,
            "bottom": null,
            "display": null,
            "flex": null,
            "flex_flow": null,
            "grid_area": null,
            "grid_auto_columns": null,
            "grid_auto_flow": null,
            "grid_auto_rows": null,
            "grid_column": null,
            "grid_gap": null,
            "grid_row": null,
            "grid_template_areas": null,
            "grid_template_columns": null,
            "grid_template_rows": null,
            "height": null,
            "justify_content": null,
            "justify_items": null,
            "left": null,
            "margin": null,
            "max_height": null,
            "max_width": null,
            "min_height": null,
            "min_width": null,
            "object_fit": null,
            "object_position": null,
            "order": null,
            "overflow": null,
            "overflow_x": null,
            "overflow_y": null,
            "padding": null,
            "right": null,
            "top": null,
            "visibility": null,
            "width": null
          }
        },
        "5513796c60534e359df3afb409078db5": {
          "model_module": "@jupyter-widgets/base",
          "model_module_version": "1.2.0",
          "model_name": "LayoutModel",
          "state": {
            "_model_module": "@jupyter-widgets/base",
            "_model_module_version": "1.2.0",
            "_model_name": "LayoutModel",
            "_view_count": null,
            "_view_module": "@jupyter-widgets/base",
            "_view_module_version": "1.2.0",
            "_view_name": "LayoutView",
            "align_content": null,
            "align_items": null,
            "align_self": null,
            "border": null,
            "bottom": null,
            "display": null,
            "flex": null,
            "flex_flow": null,
            "grid_area": null,
            "grid_auto_columns": null,
            "grid_auto_flow": null,
            "grid_auto_rows": null,
            "grid_column": null,
            "grid_gap": null,
            "grid_row": null,
            "grid_template_areas": null,
            "grid_template_columns": null,
            "grid_template_rows": null,
            "height": null,
            "justify_content": null,
            "justify_items": null,
            "left": null,
            "margin": null,
            "max_height": null,
            "max_width": null,
            "min_height": null,
            "min_width": null,
            "object_fit": null,
            "object_position": null,
            "order": null,
            "overflow": null,
            "overflow_x": null,
            "overflow_y": null,
            "padding": null,
            "right": null,
            "top": null,
            "visibility": null,
            "width": null
          }
        },
        "56f6ced3bd1440e4876207d3d66a427f": {
          "model_module": "@jupyter-widgets/base",
          "model_module_version": "1.2.0",
          "model_name": "LayoutModel",
          "state": {
            "_model_module": "@jupyter-widgets/base",
            "_model_module_version": "1.2.0",
            "_model_name": "LayoutModel",
            "_view_count": null,
            "_view_module": "@jupyter-widgets/base",
            "_view_module_version": "1.2.0",
            "_view_name": "LayoutView",
            "align_content": null,
            "align_items": null,
            "align_self": null,
            "border": null,
            "bottom": null,
            "display": null,
            "flex": null,
            "flex_flow": null,
            "grid_area": null,
            "grid_auto_columns": null,
            "grid_auto_flow": null,
            "grid_auto_rows": null,
            "grid_column": null,
            "grid_gap": null,
            "grid_row": null,
            "grid_template_areas": null,
            "grid_template_columns": null,
            "grid_template_rows": null,
            "height": null,
            "justify_content": null,
            "justify_items": null,
            "left": null,
            "margin": null,
            "max_height": null,
            "max_width": null,
            "min_height": null,
            "min_width": null,
            "object_fit": null,
            "object_position": null,
            "order": null,
            "overflow": null,
            "overflow_x": null,
            "overflow_y": null,
            "padding": null,
            "right": null,
            "top": null,
            "visibility": null,
            "width": null
          }
        },
        "59d313ceffc2489d9314c3871f01c25c": {
          "model_module": "@jupyter-widgets/controls",
          "model_module_version": "1.5.0",
          "model_name": "ProgressStyleModel",
          "state": {
            "_model_module": "@jupyter-widgets/controls",
            "_model_module_version": "1.5.0",
            "_model_name": "ProgressStyleModel",
            "_view_count": null,
            "_view_module": "@jupyter-widgets/base",
            "_view_module_version": "1.2.0",
            "_view_name": "StyleView",
            "bar_color": null,
            "description_width": ""
          }
        },
        "60a8c99d8b5b4f669376106a10cb73ae": {
          "model_module": "@jupyter-widgets/controls",
          "model_module_version": "1.5.0",
          "model_name": "FloatProgressModel",
          "state": {
            "_dom_classes": [],
            "_model_module": "@jupyter-widgets/controls",
            "_model_module_version": "1.5.0",
            "_model_name": "FloatProgressModel",
            "_view_count": null,
            "_view_module": "@jupyter-widgets/controls",
            "_view_module_version": "1.5.0",
            "_view_name": "ProgressView",
            "bar_style": "success",
            "description": "",
            "description_tooltip": null,
            "layout": "IPY_MODEL_5513796c60534e359df3afb409078db5",
            "max": 53527,
            "min": 0,
            "orientation": "horizontal",
            "style": "IPY_MODEL_fa50002183d844eaa68a71533263c3ee",
            "value": 53527
          }
        },
        "61ecf526f5f94e98b877c6fddd3270e3": {
          "model_module": "@jupyter-widgets/base",
          "model_module_version": "1.2.0",
          "model_name": "LayoutModel",
          "state": {
            "_model_module": "@jupyter-widgets/base",
            "_model_module_version": "1.2.0",
            "_model_name": "LayoutModel",
            "_view_count": null,
            "_view_module": "@jupyter-widgets/base",
            "_view_module_version": "1.2.0",
            "_view_name": "LayoutView",
            "align_content": null,
            "align_items": null,
            "align_self": null,
            "border": null,
            "bottom": null,
            "display": null,
            "flex": null,
            "flex_flow": null,
            "grid_area": null,
            "grid_auto_columns": null,
            "grid_auto_flow": null,
            "grid_auto_rows": null,
            "grid_column": null,
            "grid_gap": null,
            "grid_row": null,
            "grid_template_areas": null,
            "grid_template_columns": null,
            "grid_template_rows": null,
            "height": null,
            "justify_content": null,
            "justify_items": null,
            "left": null,
            "margin": null,
            "max_height": null,
            "max_width": null,
            "min_height": null,
            "min_width": null,
            "object_fit": null,
            "object_position": null,
            "order": null,
            "overflow": null,
            "overflow_x": null,
            "overflow_y": null,
            "padding": null,
            "right": null,
            "top": null,
            "visibility": null,
            "width": null
          }
        },
        "64e3576a4af844f4abd677c419fc2ffa": {
          "model_module": "@jupyter-widgets/controls",
          "model_module_version": "1.5.0",
          "model_name": "HTMLModel",
          "state": {
            "_dom_classes": [],
            "_model_module": "@jupyter-widgets/controls",
            "_model_module_version": "1.5.0",
            "_model_name": "HTMLModel",
            "_view_count": null,
            "_view_module": "@jupyter-widgets/controls",
            "_view_module_version": "1.5.0",
            "_view_name": "HTMLView",
            "description": "",
            "description_tooltip": null,
            "layout": "IPY_MODEL_253a8086e0fa48fc82681b3163e139d1",
            "placeholder": "​",
            "style": "IPY_MODEL_1de325164a3d43bc999d8f429fc8ec4d",
            "value": "Downloading https://raw.githubusercontent.com/stanfordnlp/stanza-resources/main/resources_1.10.0.json: "
          }
        },
        "904476641b8540c98b27be497f7055ea": {
          "model_module": "@jupyter-widgets/controls",
          "model_module_version": "1.5.0",
          "model_name": "DescriptionStyleModel",
          "state": {
            "_model_module": "@jupyter-widgets/controls",
            "_model_module_version": "1.5.0",
            "_model_name": "DescriptionStyleModel",
            "_view_count": null,
            "_view_module": "@jupyter-widgets/base",
            "_view_module_version": "1.2.0",
            "_view_name": "StyleView",
            "description_width": ""
          }
        },
        "c43fe4c365014b6bb8514030eaf1edc2": {
          "model_module": "@jupyter-widgets/controls",
          "model_module_version": "1.5.0",
          "model_name": "DescriptionStyleModel",
          "state": {
            "_model_module": "@jupyter-widgets/controls",
            "_model_module_version": "1.5.0",
            "_model_name": "DescriptionStyleModel",
            "_view_count": null,
            "_view_module": "@jupyter-widgets/base",
            "_view_module_version": "1.2.0",
            "_view_name": "StyleView",
            "description_width": ""
          }
        },
        "cba403fb91f3429290472c12d4789c54": {
          "model_module": "@jupyter-widgets/controls",
          "model_module_version": "1.5.0",
          "model_name": "FloatProgressModel",
          "state": {
            "_dom_classes": [],
            "_model_module": "@jupyter-widgets/controls",
            "_model_module_version": "1.5.0",
            "_model_name": "FloatProgressModel",
            "_view_count": null,
            "_view_module": "@jupyter-widgets/controls",
            "_view_module_version": "1.5.0",
            "_view_name": "ProgressView",
            "bar_style": "success",
            "description": "",
            "description_tooltip": null,
            "layout": "IPY_MODEL_61ecf526f5f94e98b877c6fddd3270e3",
            "max": 526251983,
            "min": 0,
            "orientation": "horizontal",
            "style": "IPY_MODEL_59d313ceffc2489d9314c3871f01c25c",
            "value": 526251983
          }
        },
        "ec2c41a7df554f1c924d898dd30624a9": {
          "model_module": "@jupyter-widgets/controls",
          "model_module_version": "1.5.0",
          "model_name": "HBoxModel",
          "state": {
            "_dom_classes": [],
            "_model_module": "@jupyter-widgets/controls",
            "_model_module_version": "1.5.0",
            "_model_name": "HBoxModel",
            "_view_count": null,
            "_view_module": "@jupyter-widgets/controls",
            "_view_module_version": "1.5.0",
            "_view_name": "HBoxView",
            "box_style": "",
            "children": [
              "IPY_MODEL_44dc675d6f41435b9f90a4e97fdde843",
              "IPY_MODEL_cba403fb91f3429290472c12d4789c54",
              "IPY_MODEL_21817fe1da824dbfbbd5cefab1ee02f5"
            ],
            "layout": "IPY_MODEL_56f6ced3bd1440e4876207d3d66a427f"
          }
        },
        "f237bff89735480c8f39292ad68ea17d": {
          "model_module": "@jupyter-widgets/controls",
          "model_module_version": "1.5.0",
          "model_name": "HTMLModel",
          "state": {
            "_dom_classes": [],
            "_model_module": "@jupyter-widgets/controls",
            "_model_module_version": "1.5.0",
            "_model_name": "HTMLModel",
            "_view_count": null,
            "_view_module": "@jupyter-widgets/controls",
            "_view_module_version": "1.5.0",
            "_view_name": "HTMLView",
            "description": "",
            "description_tooltip": null,
            "layout": "IPY_MODEL_342319e93aec4948961f5e2d77e279ab",
            "placeholder": "​",
            "style": "IPY_MODEL_c43fe4c365014b6bb8514030eaf1edc2",
            "value": " 433k/? [00:00&lt;00:00, 18.1MB/s]"
          }
        },
        "f49c6c5e5ab84bd6a8a325d2f8c4e655": {
          "model_module": "@jupyter-widgets/base",
          "model_module_version": "1.2.0",
          "model_name": "LayoutModel",
          "state": {
            "_model_module": "@jupyter-widgets/base",
            "_model_module_version": "1.2.0",
            "_model_name": "LayoutModel",
            "_view_count": null,
            "_view_module": "@jupyter-widgets/base",
            "_view_module_version": "1.2.0",
            "_view_name": "LayoutView",
            "align_content": null,
            "align_items": null,
            "align_self": null,
            "border": null,
            "bottom": null,
            "display": null,
            "flex": null,
            "flex_flow": null,
            "grid_area": null,
            "grid_auto_columns": null,
            "grid_auto_flow": null,
            "grid_auto_rows": null,
            "grid_column": null,
            "grid_gap": null,
            "grid_row": null,
            "grid_template_areas": null,
            "grid_template_columns": null,
            "grid_template_rows": null,
            "height": null,
            "justify_content": null,
            "justify_items": null,
            "left": null,
            "margin": null,
            "max_height": null,
            "max_width": null,
            "min_height": null,
            "min_width": null,
            "object_fit": null,
            "object_position": null,
            "order": null,
            "overflow": null,
            "overflow_x": null,
            "overflow_y": null,
            "padding": null,
            "right": null,
            "top": null,
            "visibility": null,
            "width": null
          }
        },
        "fa50002183d844eaa68a71533263c3ee": {
          "model_module": "@jupyter-widgets/controls",
          "model_module_version": "1.5.0",
          "model_name": "ProgressStyleModel",
          "state": {
            "_model_module": "@jupyter-widgets/controls",
            "_model_module_version": "1.5.0",
            "_model_name": "ProgressStyleModel",
            "_view_count": null,
            "_view_module": "@jupyter-widgets/base",
            "_view_module_version": "1.2.0",
            "_view_name": "StyleView",
            "bar_color": null,
            "description_width": ""
          }
        }
      }
    }
  },
  "nbformat": 4,
  "nbformat_minor": 0
}
