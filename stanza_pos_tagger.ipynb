{
  "cells": [
    {
      "cell_type": "markdown",
      "metadata": {
        "id": "_xKpZHBAAcX6"
      },
      "source": [
        "# Part-of-speech-tagging with *stanza*\n",
        "\n"
      ]
    },
    {
      "cell_type": "markdown",
      "metadata": {
        "id": "CNBto5PnDhU5"
      },
      "source": [
        "This is a Python notebook for pos-tagging that is meant to be used in Google Colab.\n",
        "\n",
        "The following code will use the Python library *stanza* to tokenize and annotate text.\n",
        "\n",
        "Further information on *stanza*:\n",
        "\n",
        "*   How to use *stanza*: https://stanfordnlp.github.io/stanza/index.html\n",
        "*   The paper on *stanza*: https://aclanthology.org/2020.acl-demos.14/\n",
        "\n",
        "This code is written specifically to ignore XML-tags that is to print them unchanged and only tokenize and annotate raw text. This is ideal for use with the IMS Open Corpus Workbench where XML-tags provide metadata on each text and should not be annotated.\n",
        "\n",
        "In theory, you can use this notebook locally on your computer with the necessary dependencies (e.g. Jupyter Notebooks). In that case, you cannot use any commands specific to Google Colab. You will likely also not have a suitable GPU that will make your code run faster."
      ]
    },
    {
      "cell_type": "markdown",
      "metadata": {
        "id": "wrpKIiDPAlD2"
      },
      "source": [
        "## Use the GPU\n",
        "Be sure to set the runtime in Google Colab to a GPU, so the code will run faster. This makes a huge difference with large files!\n",
        "\n",
        "Google Colab will not select a GPU by default. To change to a GPU in Google Colab, click on **Runtime** above, select **Change runtime type** and select a GPU. Your notebook will disconnect and reconnect, so you may have to rerun cells.\n",
        "\n",
        "Google Colab may limit the number of times you can use a GPU per day, but this should not be a problem, as the code works on the default settings (CPU) as well."
      ]
    },
    {
      "cell_type": "markdown",
      "metadata": {
        "id": "naXS8Cd_HE0W"
      },
      "source": [
        "## Install and import *stanza*\n"
      ]
    },
    {
      "cell_type": "markdown",
      "metadata": {
        "id": "Bd0xIsBnfv1M"
      },
      "source": [
        "...and other necessary modules."
      ]
    },
    {
      "cell_type": "code",
      "execution_count": null,
      "metadata": {
        "colab": {
          "base_uri": "https://localhost:8080/"
        },
        "collapsed": true,
        "id": "oaD27jIcrU8x",
        "outputId": "11faa6f3-7054-460d-dddc-43028f4da78d"
      },
      "outputs": [],
      "source": [
        "!pip install stanza"
      ]
    },
    {
      "cell_type": "code",
      "execution_count": 2,
      "metadata": {
        "id": "-Pa3kRex9Rm4"
      },
      "outputs": [],
      "source": [
        "import stanza\n",
        "import re\n",
        "import os"
      ]
    },
    {
      "cell_type": "markdown",
      "metadata": {
        "id": "aMruJMMU_HxO"
      },
      "source": [
        "## Download the language model for English"
      ]
    },
    {
      "cell_type": "code",
      "execution_count": null,
      "metadata": {
        "colab": {
          "base_uri": "https://localhost:8080/",
          "height": 172,
          "referenced_widgets": [
            "5dd25359baed417cbb5b8a5b9c62fa62",
            "17efd104b21348d493ec305f53ead860",
            "52d81f31ec0043d2b0a7ecf735b231fb",
            "379d05e8cb174461a493afe8ff9e6749",
            "a1cf50332ac24b7bac5702115cfa8915",
            "a1c545a32f384c8dbd673cb3d4d1d388",
            "e93f81312c044d93a393f8b49f93ed13",
            "35b0439217d94e6c8a399fe3b68393bc",
            "82e58f927d3b483eb99069e01bf50814",
            "fe44494d677a41859351bf695598714c",
            "315cc9a1e4e14386949be8b950d73569",
            "c5238ac58c804695abd163baabd4d0a3",
            "a86505d22ee64049b5ccbf1f5598a0ce",
            "ca2965a958a745c983c316c95328a0e3",
            "bf7515c6489c48508409bf38fbd3755b",
            "79da7152ad7341eeaa8e6ab1b05bcfc4",
            "49cc5b61eba34d88afa21b07e6daa57c",
            "115923eacf4c4dea8c69e645d082b69e",
            "90cdec3beb6242d1b014f9818b3fc343",
            "99645003c1eb4b878c13b8dbf54d9932",
            "c21dd426bb994bb9ba3c676d22084e08",
            "e29d361c79164ad99acd158b21c1bec4"
          ]
        },
        "collapsed": true,
        "id": "elM__ka--kwH",
        "outputId": "f42a5238-0a81-433c-a128-d0e345bcef7d"
      },
      "outputs": [],
      "source": [
        "stanza.download(\"en\")\n",
        "print(\"Language model downloaded\")\n",
        "nlp = stanza.Pipeline(\"en\", processors=\"tokenize, lemma, pos\", verbose=False, use_gpu=True)"
      ]
    },
    {
      "cell_type": "markdown",
      "metadata": {
        "id": "zQCudFTWXd5Q"
      },
      "source": [
        "For other languages and their corresponding codes (lcode), please see this list: https://stanfordnlp.github.io/stanza/performance.html\n",
        "For example, for German, replace \"en\" with \"de\" or, for Dutch, use \"nl\"."
      ]
    },
    {
      "cell_type": "markdown",
      "metadata": {
        "id": "gbbxDuhCdbaJ"
      },
      "source": [
        "## Verify that you're using a GPU"
      ]
    },
    {
      "cell_type": "markdown",
      "metadata": {
        "id": "q912qQe8XONj"
      },
      "source": [
        "Depending on whether the GPU is active or not, the output of this cell should be ```True``` or ```False```."
      ]
    },
    {
      "cell_type": "code",
      "execution_count": null,
      "metadata": {
        "colab": {
          "base_uri": "https://localhost:8080/"
        },
        "id": "Piqd16HidZf-",
        "outputId": "545efd55-5238-4a09-dfea-68d17290ad96"
      },
      "outputs": [],
      "source": [
        "import torch\n",
        "\n",
        "torch.cuda.is_available()"
      ]
    },
    {
      "cell_type": "markdown",
      "metadata": {
        "id": "icOqe5y3BNMG"
      },
      "source": [
        "## Test the tagger with shorter texts\n",
        "\n",
        "You may find this useful to gain an impression of how well the tagger performs with your type of text – a song by Snoop Dogg and Dr. Dre, for example."
      ]
    },
    {
      "cell_type": "code",
      "execution_count": 21,
      "metadata": {
        "id": "HAQKP83j9i2Z"
      },
      "outputs": [],
      "source": [
        "# Run this cell to set the sample text\n",
        "\n",
        "sample = \"\"\"\n",
        "\n",
        "And even when I was close to defeat, I rose to my feet\n",
        "My life's like a soundtrack I wrote to the beat\n",
        "Treat rap like Cali weed: I smoke 'til I'm 'sleep\n",
        "Wake up in the A.M., compose a beat\n",
        "I bring the fire 'til you're soakin' in your seat\n",
        "\n",
        "\"\"\""
      ]
    },
    {
      "cell_type": "markdown",
      "metadata": {
        "id": "eZawzfYg_gqc"
      },
      "source": [
        "Stanza will print each **token**, the **PENN Treebank tag** (xpos), the corresponding **Universal Dependencies tag** (pos), and the **lemma** (lemma) in all lowercase letters on a new line.\n",
        "\n",
        "See here for further information on the tagsets:\n",
        "\n",
        "*   **Universal Dependencies Tagset**: https://universaldependencies.org/u/pos\n",
        "*   **PENN Treebank Tagset**: https://www.ling.upenn.edu/courses/Fall_2003/ling001/penn_treebank_pos.html\n",
        "\n",
        "\n",
        "The output will be a tab-separated list, with each token on a separate line.\n"
      ]
    },
    {
      "cell_type": "code",
      "execution_count": null,
      "metadata": {
        "colab": {
          "base_uri": "https://localhost:8080/"
        },
        "collapsed": true,
        "id": "YFLhGXfD88IC",
        "outputId": "30d838ea-d9e0-474a-d73c-f756353b0d1d"
      },
      "outputs": [],
      "source": [
        "# Run this to cell to tag the sample text\n",
        "\n",
        "# pattern to split XML tags and non-tags\n",
        "# group 1: XML tags, group 2: non-tag text\n",
        "parts = re.findall(r'(<[^>]+>)|([^<]+)', sample)\n",
        "\n",
        "\n",
        "for tag, text in parts:\n",
        "    if tag:\n",
        "        # it's an XML tag, so write it unchanged\n",
        "        print(tag + \"\\n\")\n",
        "    elif text:\n",
        "        # it's text content, so lemmatize, clean and write\n",
        "        doc = nlp(text)\n",
        "\n",
        "        for sentence in doc.sentences:\n",
        "            for word in sentence.words:\n",
        "                print(f\"{word.text}\\t{word.xpos}\\t{word.pos}\\t{word.lemma.lower()}\\n\")\n"
      ]
    },
    {
      "cell_type": "markdown",
      "metadata": {
        "id": "DtmFezjMHi4g"
      },
      "source": [
        "## Use the tagger with a text file\n",
        "\n"
      ]
    },
    {
      "cell_type": "markdown",
      "metadata": {
        "id": "6jhWy-_lJOPG"
      },
      "source": [
        "### Option 1: Upload the file directly to this Google Colab notebook\n",
        "\n",
        "Click on the folder icon on the lefthand side, then click on the file icon with the upward arrow to upload a file from your computer.\n",
        "\n",
        "Be aware that all your files uploaded to this project will be deleted once this runtime disconnects, e.g. if it has been inactive for a while."
      ]
    },
    {
      "cell_type": "code",
      "execution_count": 19,
      "metadata": {
        "colab": {
          "base_uri": "https://localhost:8080/"
        },
        "collapsed": true,
        "id": "Iu3WHzKBJ6df",
        "outputId": "3a266f47-9ff7-4a14-b823-2b4dc347b03e"
      },
      "outputs": [
        {
          "name": "stdout",
          "output_type": "stream",
          "text": [
            "You're currently in the folder:\n",
            "/content\n",
            "The current contents of the folder are:\n",
            "drive  sample_data  swift.vrt  swift.xml  test.txt  test.vrt\n"
          ]
        }
      ],
      "source": [
        "# this command shows you the current working directory\n",
        "print(\"You're currently in the folder:\")\n",
        "!pwd\n",
        "\n",
        "#this command lists all the file in your current working directory\n",
        "print(f\"The current contents of the folder are:\")\n",
        "!ls"
      ]
    },
    {
      "cell_type": "markdown",
      "metadata": {
        "id": "vdY05c5dMuLA"
      },
      "source": [
        "When inserting the name of your file in the cell below, please include the file extension as well. For a file named \"test.txt\", the extension would be \".txt\"."
      ]
    },
    {
      "cell_type": "code",
      "execution_count": 16,
      "metadata": {
        "id": "Mtp-CLcSMrie"
      },
      "outputs": [],
      "source": [
        "# Insert the name of your file inside the quotation marks\n",
        "FILE = \"test.txt\""
      ]
    },
    {
      "cell_type": "code",
      "execution_count": 17,
      "metadata": {
        "id": "M43BvlGlKEqW"
      },
      "outputs": [],
      "source": [
        "FILE = FILE.strip()\n",
        "\n",
        "with open(f\"/content/{FILE}\", \"r\") as input_file:\n",
        "  name, ext = os.path.splitext(FILE)\n",
        "  output_file = name + \".vrt\"\n",
        "  content = input_file.read()"
      ]
    },
    {
      "cell_type": "markdown",
      "metadata": {
        "id": "0naoDPctPNK6"
      },
      "source": [
        "### Option 2: Connect this notebook to your Google Drive account\n",
        "\n",
        "If you run this cell, a window should open, asking for permission. If you grant it, another window will have you select the Gooogle Drive account and specify which permissions to grant. You need to allow the notebook to open, read, edit and delete files. This will likely be only one tick box.\n",
        "\n",
        "If everything worked, the output of the cell should say: ```Mounted at /content/drive```."
      ]
    },
    {
      "cell_type": "code",
      "execution_count": null,
      "metadata": {
        "colab": {
          "base_uri": "https://localhost:8080/"
        },
        "id": "qXrQ2OTi691o",
        "outputId": "bb678c56-ebbd-4579-bfff-5ba87b6e7934"
      },
      "outputs": [],
      "source": [
        "from google.colab import drive\n",
        "drive.mount(\"/content/drive\")"
      ]
    },
    {
      "cell_type": "markdown",
      "metadata": {
        "id": "AFzOSrHWOj4c"
      },
      "source": [
        "If your file is saved in your Google Drive, the notebook can access it with the following cells.\n",
        "\n",
        "**The file itself will not be changed!** It will only be opened in read-mode \"r\", meaning its contents will be read. The notebook will produce a new file with the tagged text.\n",
        "\n",
        "When inserting the name of your file in the cell below, please include the file extension as well. For a file named \"test.txt\", the extension would be \".txt\".\n"
      ]
    },
    {
      "cell_type": "code",
      "execution_count": 6,
      "metadata": {
        "id": "4UBtu4CoKzwW"
      },
      "outputs": [],
      "source": [
        "# Insert the name of your file inside the quotation marks\n",
        "FILE = \"test.txt\""
      ]
    },
    {
      "cell_type": "code",
      "execution_count": null,
      "metadata": {
        "id": "YJl4h-RyKNPr"
      },
      "outputs": [],
      "source": [
        "FILE = FILE.strip()\n",
        "\n",
        "with open(f\"/content/drive/My Drive/{FILE}\", \"r\") as input_file:\n",
        "  name, ext = os.path.splitext(FILE)\n",
        "  output_file = name + \".vrt\"\n",
        "  content = input_file.read()"
      ]
    },
    {
      "cell_type": "markdown",
      "metadata": {
        "id": "Z7gKMeQ4JtGv"
      },
      "source": [
        "## Tag your file"
      ]
    },
    {
      "cell_type": "markdown",
      "metadata": {
        "id": "gbDKwAO4VCws"
      },
      "source": [
        "With Google Colab set to use the GPU, this code will approximately need 6-7 minutes to tokenize and annotate a file with over 100.000 tokens.\n",
        "\n",
        "Be aware that the following code will **automatically download** the created file to your computer, unless the indicated line is commented out. It is advised that the file be immediately downloaded, because all files will be deleted as soon as the runtime disconnects (e.g. if the notebook has been inactive for a while).\n",
        "\n",
        "The downloaded file will have the name of the original input file with the extension changed to \".vrt\" (VeRTicalized file). This is just a normal text file that can be opened with any editor. Find out more here: https://fedora.clarin-d.uni-saarland.de/teaching/Comparing_Corpora_Tutorials/Tutorial_VRT.html\n",
        "\n",
        "As said before, Stanza will print each **token**, the **PENN Treebank tag** (xpos), the corresponding **Universal Dependencies tag** (pos), and the **lemma** (lemma) in all lowercase letters on a new line.\n"
      ]
    },
    {
      "cell_type": "code",
      "execution_count": null,
      "metadata": {
        "colab": {
          "base_uri": "https://localhost:8080/",
          "height": 54
        },
        "id": "9me9n77kInpn",
        "outputId": "50e2422e-5cb1-4f5e-980b-cfc28e9abd8b"
      },
      "outputs": [],
      "source": [
        "# Run this cell to tag the file\n",
        "\n",
        "from google.colab import files\n",
        "\n",
        "def tag_file(output_file):\n",
        "\n",
        "    # pattern to split XML tags and non-tags\n",
        "    # group 1: XML tags, group 2: non-tag text\n",
        "    parts = re.findall(r'(<[^>]+>)|([^<]+)', content)\n",
        "\n",
        "\n",
        "    with open(output_file, \"w\", encoding=\"utf-8\") as out:\n",
        "        for tag, text in parts:\n",
        "            # print(tag, text)\n",
        "            if tag:\n",
        "                # it's an XML tag, so write it unchanged\n",
        "                out.write(tag + \"\\n\")\n",
        "            elif text:\n",
        "                # it's text content, so lemmatize, clean and write\n",
        "                doc = nlp(text)\n",
        "\n",
        "                for sentence in doc.sentences:\n",
        "                    for word in sentence.words:\n",
        "                        out.write(\n",
        "                            f\"{word.text}\\t{word.xpos}\\t{word.pos}\\t{word.lemma.lower()}\\n\")\n",
        "\n",
        "\n",
        "\n",
        "tag_file(output_file=output_file)\n",
        "\n",
        "print(f\"Lemmatized text written to {output_file}.\")\n",
        "\n",
        "# download the output file to your computer\n",
        "files.download(output_file)\n",
        "\n",
        "print(f\"{output_file} downloaded.\")"
      ]
    },
    {
      "cell_type": "markdown",
      "metadata": {
        "id": "7jKV-heKRNJL"
      },
      "source": []
    }
  ],
  "metadata": {
    "accelerator": "GPU",
    "colab": {
      "gpuType": "T4",
      "provenance": []
    },
    "kernelspec": {
      "display_name": "Python 3",
      "name": "python3"
    },
    "language_info": {
      "name": "python"
    },
    "widgets": {
      "application/vnd.jupyter.widget-state+json": {
        "115923eacf4c4dea8c69e645d082b69e": {
          "model_module": "@jupyter-widgets/controls",
          "model_module_version": "1.5.0",
          "model_name": "DescriptionStyleModel",
          "state": {
            "_model_module": "@jupyter-widgets/controls",
            "_model_module_version": "1.5.0",
            "_model_name": "DescriptionStyleModel",
            "_view_count": null,
            "_view_module": "@jupyter-widgets/base",
            "_view_module_version": "1.2.0",
            "_view_name": "StyleView",
            "description_width": ""
          }
        },
        "17efd104b21348d493ec305f53ead860": {
          "model_module": "@jupyter-widgets/controls",
          "model_module_version": "1.5.0",
          "model_name": "HTMLModel",
          "state": {
            "_dom_classes": [],
            "_model_module": "@jupyter-widgets/controls",
            "_model_module_version": "1.5.0",
            "_model_name": "HTMLModel",
            "_view_count": null,
            "_view_module": "@jupyter-widgets/controls",
            "_view_module_version": "1.5.0",
            "_view_name": "HTMLView",
            "description": "",
            "description_tooltip": null,
            "layout": "IPY_MODEL_a1c545a32f384c8dbd673cb3d4d1d388",
            "placeholder": "​",
            "style": "IPY_MODEL_e93f81312c044d93a393f8b49f93ed13",
            "value": "Downloading https://raw.githubusercontent.com/stanfordnlp/stanza-resources/main/resources_1.10.0.json: "
          }
        },
        "315cc9a1e4e14386949be8b950d73569": {
          "model_module": "@jupyter-widgets/controls",
          "model_module_version": "1.5.0",
          "model_name": "DescriptionStyleModel",
          "state": {
            "_model_module": "@jupyter-widgets/controls",
            "_model_module_version": "1.5.0",
            "_model_name": "DescriptionStyleModel",
            "_view_count": null,
            "_view_module": "@jupyter-widgets/base",
            "_view_module_version": "1.2.0",
            "_view_name": "StyleView",
            "description_width": ""
          }
        },
        "35b0439217d94e6c8a399fe3b68393bc": {
          "model_module": "@jupyter-widgets/base",
          "model_module_version": "1.2.0",
          "model_name": "LayoutModel",
          "state": {
            "_model_module": "@jupyter-widgets/base",
            "_model_module_version": "1.2.0",
            "_model_name": "LayoutModel",
            "_view_count": null,
            "_view_module": "@jupyter-widgets/base",
            "_view_module_version": "1.2.0",
            "_view_name": "LayoutView",
            "align_content": null,
            "align_items": null,
            "align_self": null,
            "border": null,
            "bottom": null,
            "display": null,
            "flex": null,
            "flex_flow": null,
            "grid_area": null,
            "grid_auto_columns": null,
            "grid_auto_flow": null,
            "grid_auto_rows": null,
            "grid_column": null,
            "grid_gap": null,
            "grid_row": null,
            "grid_template_areas": null,
            "grid_template_columns": null,
            "grid_template_rows": null,
            "height": null,
            "justify_content": null,
            "justify_items": null,
            "left": null,
            "margin": null,
            "max_height": null,
            "max_width": null,
            "min_height": null,
            "min_width": null,
            "object_fit": null,
            "object_position": null,
            "order": null,
            "overflow": null,
            "overflow_x": null,
            "overflow_y": null,
            "padding": null,
            "right": null,
            "top": null,
            "visibility": null,
            "width": null
          }
        },
        "379d05e8cb174461a493afe8ff9e6749": {
          "model_module": "@jupyter-widgets/controls",
          "model_module_version": "1.5.0",
          "model_name": "HTMLModel",
          "state": {
            "_dom_classes": [],
            "_model_module": "@jupyter-widgets/controls",
            "_model_module_version": "1.5.0",
            "_model_name": "HTMLModel",
            "_view_count": null,
            "_view_module": "@jupyter-widgets/controls",
            "_view_module_version": "1.5.0",
            "_view_name": "HTMLView",
            "description": "",
            "description_tooltip": null,
            "layout": "IPY_MODEL_fe44494d677a41859351bf695598714c",
            "placeholder": "​",
            "style": "IPY_MODEL_315cc9a1e4e14386949be8b950d73569",
            "value": " 433k/? [00:00&lt;00:00, 19.3MB/s]"
          }
        },
        "49cc5b61eba34d88afa21b07e6daa57c": {
          "model_module": "@jupyter-widgets/base",
          "model_module_version": "1.2.0",
          "model_name": "LayoutModel",
          "state": {
            "_model_module": "@jupyter-widgets/base",
            "_model_module_version": "1.2.0",
            "_model_name": "LayoutModel",
            "_view_count": null,
            "_view_module": "@jupyter-widgets/base",
            "_view_module_version": "1.2.0",
            "_view_name": "LayoutView",
            "align_content": null,
            "align_items": null,
            "align_self": null,
            "border": null,
            "bottom": null,
            "display": null,
            "flex": null,
            "flex_flow": null,
            "grid_area": null,
            "grid_auto_columns": null,
            "grid_auto_flow": null,
            "grid_auto_rows": null,
            "grid_column": null,
            "grid_gap": null,
            "grid_row": null,
            "grid_template_areas": null,
            "grid_template_columns": null,
            "grid_template_rows": null,
            "height": null,
            "justify_content": null,
            "justify_items": null,
            "left": null,
            "margin": null,
            "max_height": null,
            "max_width": null,
            "min_height": null,
            "min_width": null,
            "object_fit": null,
            "object_position": null,
            "order": null,
            "overflow": null,
            "overflow_x": null,
            "overflow_y": null,
            "padding": null,
            "right": null,
            "top": null,
            "visibility": null,
            "width": null
          }
        },
        "52d81f31ec0043d2b0a7ecf735b231fb": {
          "model_module": "@jupyter-widgets/controls",
          "model_module_version": "1.5.0",
          "model_name": "FloatProgressModel",
          "state": {
            "_dom_classes": [],
            "_model_module": "@jupyter-widgets/controls",
            "_model_module_version": "1.5.0",
            "_model_name": "FloatProgressModel",
            "_view_count": null,
            "_view_module": "@jupyter-widgets/controls",
            "_view_module_version": "1.5.0",
            "_view_name": "ProgressView",
            "bar_style": "success",
            "description": "",
            "description_tooltip": null,
            "layout": "IPY_MODEL_35b0439217d94e6c8a399fe3b68393bc",
            "max": 53527,
            "min": 0,
            "orientation": "horizontal",
            "style": "IPY_MODEL_82e58f927d3b483eb99069e01bf50814",
            "value": 53527
          }
        },
        "5dd25359baed417cbb5b8a5b9c62fa62": {
          "model_module": "@jupyter-widgets/controls",
          "model_module_version": "1.5.0",
          "model_name": "HBoxModel",
          "state": {
            "_dom_classes": [],
            "_model_module": "@jupyter-widgets/controls",
            "_model_module_version": "1.5.0",
            "_model_name": "HBoxModel",
            "_view_count": null,
            "_view_module": "@jupyter-widgets/controls",
            "_view_module_version": "1.5.0",
            "_view_name": "HBoxView",
            "box_style": "",
            "children": [
              "IPY_MODEL_17efd104b21348d493ec305f53ead860",
              "IPY_MODEL_52d81f31ec0043d2b0a7ecf735b231fb",
              "IPY_MODEL_379d05e8cb174461a493afe8ff9e6749"
            ],
            "layout": "IPY_MODEL_a1cf50332ac24b7bac5702115cfa8915"
          }
        },
        "79da7152ad7341eeaa8e6ab1b05bcfc4": {
          "model_module": "@jupyter-widgets/base",
          "model_module_version": "1.2.0",
          "model_name": "LayoutModel",
          "state": {
            "_model_module": "@jupyter-widgets/base",
            "_model_module_version": "1.2.0",
            "_model_name": "LayoutModel",
            "_view_count": null,
            "_view_module": "@jupyter-widgets/base",
            "_view_module_version": "1.2.0",
            "_view_name": "LayoutView",
            "align_content": null,
            "align_items": null,
            "align_self": null,
            "border": null,
            "bottom": null,
            "display": null,
            "flex": null,
            "flex_flow": null,
            "grid_area": null,
            "grid_auto_columns": null,
            "grid_auto_flow": null,
            "grid_auto_rows": null,
            "grid_column": null,
            "grid_gap": null,
            "grid_row": null,
            "grid_template_areas": null,
            "grid_template_columns": null,
            "grid_template_rows": null,
            "height": null,
            "justify_content": null,
            "justify_items": null,
            "left": null,
            "margin": null,
            "max_height": null,
            "max_width": null,
            "min_height": null,
            "min_width": null,
            "object_fit": null,
            "object_position": null,
            "order": null,
            "overflow": null,
            "overflow_x": null,
            "overflow_y": null,
            "padding": null,
            "right": null,
            "top": null,
            "visibility": null,
            "width": null
          }
        },
        "82e58f927d3b483eb99069e01bf50814": {
          "model_module": "@jupyter-widgets/controls",
          "model_module_version": "1.5.0",
          "model_name": "ProgressStyleModel",
          "state": {
            "_model_module": "@jupyter-widgets/controls",
            "_model_module_version": "1.5.0",
            "_model_name": "ProgressStyleModel",
            "_view_count": null,
            "_view_module": "@jupyter-widgets/base",
            "_view_module_version": "1.2.0",
            "_view_name": "StyleView",
            "bar_color": null,
            "description_width": ""
          }
        },
        "90cdec3beb6242d1b014f9818b3fc343": {
          "model_module": "@jupyter-widgets/base",
          "model_module_version": "1.2.0",
          "model_name": "LayoutModel",
          "state": {
            "_model_module": "@jupyter-widgets/base",
            "_model_module_version": "1.2.0",
            "_model_name": "LayoutModel",
            "_view_count": null,
            "_view_module": "@jupyter-widgets/base",
            "_view_module_version": "1.2.0",
            "_view_name": "LayoutView",
            "align_content": null,
            "align_items": null,
            "align_self": null,
            "border": null,
            "bottom": null,
            "display": null,
            "flex": null,
            "flex_flow": null,
            "grid_area": null,
            "grid_auto_columns": null,
            "grid_auto_flow": null,
            "grid_auto_rows": null,
            "grid_column": null,
            "grid_gap": null,
            "grid_row": null,
            "grid_template_areas": null,
            "grid_template_columns": null,
            "grid_template_rows": null,
            "height": null,
            "justify_content": null,
            "justify_items": null,
            "left": null,
            "margin": null,
            "max_height": null,
            "max_width": null,
            "min_height": null,
            "min_width": null,
            "object_fit": null,
            "object_position": null,
            "order": null,
            "overflow": null,
            "overflow_x": null,
            "overflow_y": null,
            "padding": null,
            "right": null,
            "top": null,
            "visibility": null,
            "width": null
          }
        },
        "99645003c1eb4b878c13b8dbf54d9932": {
          "model_module": "@jupyter-widgets/controls",
          "model_module_version": "1.5.0",
          "model_name": "ProgressStyleModel",
          "state": {
            "_model_module": "@jupyter-widgets/controls",
            "_model_module_version": "1.5.0",
            "_model_name": "ProgressStyleModel",
            "_view_count": null,
            "_view_module": "@jupyter-widgets/base",
            "_view_module_version": "1.2.0",
            "_view_name": "StyleView",
            "bar_color": null,
            "description_width": ""
          }
        },
        "a1c545a32f384c8dbd673cb3d4d1d388": {
          "model_module": "@jupyter-widgets/base",
          "model_module_version": "1.2.0",
          "model_name": "LayoutModel",
          "state": {
            "_model_module": "@jupyter-widgets/base",
            "_model_module_version": "1.2.0",
            "_model_name": "LayoutModel",
            "_view_count": null,
            "_view_module": "@jupyter-widgets/base",
            "_view_module_version": "1.2.0",
            "_view_name": "LayoutView",
            "align_content": null,
            "align_items": null,
            "align_self": null,
            "border": null,
            "bottom": null,
            "display": null,
            "flex": null,
            "flex_flow": null,
            "grid_area": null,
            "grid_auto_columns": null,
            "grid_auto_flow": null,
            "grid_auto_rows": null,
            "grid_column": null,
            "grid_gap": null,
            "grid_row": null,
            "grid_template_areas": null,
            "grid_template_columns": null,
            "grid_template_rows": null,
            "height": null,
            "justify_content": null,
            "justify_items": null,
            "left": null,
            "margin": null,
            "max_height": null,
            "max_width": null,
            "min_height": null,
            "min_width": null,
            "object_fit": null,
            "object_position": null,
            "order": null,
            "overflow": null,
            "overflow_x": null,
            "overflow_y": null,
            "padding": null,
            "right": null,
            "top": null,
            "visibility": null,
            "width": null
          }
        },
        "a1cf50332ac24b7bac5702115cfa8915": {
          "model_module": "@jupyter-widgets/base",
          "model_module_version": "1.2.0",
          "model_name": "LayoutModel",
          "state": {
            "_model_module": "@jupyter-widgets/base",
            "_model_module_version": "1.2.0",
            "_model_name": "LayoutModel",
            "_view_count": null,
            "_view_module": "@jupyter-widgets/base",
            "_view_module_version": "1.2.0",
            "_view_name": "LayoutView",
            "align_content": null,
            "align_items": null,
            "align_self": null,
            "border": null,
            "bottom": null,
            "display": null,
            "flex": null,
            "flex_flow": null,
            "grid_area": null,
            "grid_auto_columns": null,
            "grid_auto_flow": null,
            "grid_auto_rows": null,
            "grid_column": null,
            "grid_gap": null,
            "grid_row": null,
            "grid_template_areas": null,
            "grid_template_columns": null,
            "grid_template_rows": null,
            "height": null,
            "justify_content": null,
            "justify_items": null,
            "left": null,
            "margin": null,
            "max_height": null,
            "max_width": null,
            "min_height": null,
            "min_width": null,
            "object_fit": null,
            "object_position": null,
            "order": null,
            "overflow": null,
            "overflow_x": null,
            "overflow_y": null,
            "padding": null,
            "right": null,
            "top": null,
            "visibility": null,
            "width": null
          }
        },
        "a86505d22ee64049b5ccbf1f5598a0ce": {
          "model_module": "@jupyter-widgets/controls",
          "model_module_version": "1.5.0",
          "model_name": "HTMLModel",
          "state": {
            "_dom_classes": [],
            "_model_module": "@jupyter-widgets/controls",
            "_model_module_version": "1.5.0",
            "_model_name": "HTMLModel",
            "_view_count": null,
            "_view_module": "@jupyter-widgets/controls",
            "_view_module_version": "1.5.0",
            "_view_name": "HTMLView",
            "description": "",
            "description_tooltip": null,
            "layout": "IPY_MODEL_49cc5b61eba34d88afa21b07e6daa57c",
            "placeholder": "​",
            "style": "IPY_MODEL_115923eacf4c4dea8c69e645d082b69e",
            "value": "Downloading https://huggingface.co/stanfordnlp/stanza-en/resolve/v1.10.0/models/default.zip: 100%"
          }
        },
        "bf7515c6489c48508409bf38fbd3755b": {
          "model_module": "@jupyter-widgets/controls",
          "model_module_version": "1.5.0",
          "model_name": "HTMLModel",
          "state": {
            "_dom_classes": [],
            "_model_module": "@jupyter-widgets/controls",
            "_model_module_version": "1.5.0",
            "_model_name": "HTMLModel",
            "_view_count": null,
            "_view_module": "@jupyter-widgets/controls",
            "_view_module_version": "1.5.0",
            "_view_name": "HTMLView",
            "description": "",
            "description_tooltip": null,
            "layout": "IPY_MODEL_c21dd426bb994bb9ba3c676d22084e08",
            "placeholder": "​",
            "style": "IPY_MODEL_e29d361c79164ad99acd158b21c1bec4",
            "value": " 526M/526M [00:02&lt;00:00, 304MB/s]"
          }
        },
        "c21dd426bb994bb9ba3c676d22084e08": {
          "model_module": "@jupyter-widgets/base",
          "model_module_version": "1.2.0",
          "model_name": "LayoutModel",
          "state": {
            "_model_module": "@jupyter-widgets/base",
            "_model_module_version": "1.2.0",
            "_model_name": "LayoutModel",
            "_view_count": null,
            "_view_module": "@jupyter-widgets/base",
            "_view_module_version": "1.2.0",
            "_view_name": "LayoutView",
            "align_content": null,
            "align_items": null,
            "align_self": null,
            "border": null,
            "bottom": null,
            "display": null,
            "flex": null,
            "flex_flow": null,
            "grid_area": null,
            "grid_auto_columns": null,
            "grid_auto_flow": null,
            "grid_auto_rows": null,
            "grid_column": null,
            "grid_gap": null,
            "grid_row": null,
            "grid_template_areas": null,
            "grid_template_columns": null,
            "grid_template_rows": null,
            "height": null,
            "justify_content": null,
            "justify_items": null,
            "left": null,
            "margin": null,
            "max_height": null,
            "max_width": null,
            "min_height": null,
            "min_width": null,
            "object_fit": null,
            "object_position": null,
            "order": null,
            "overflow": null,
            "overflow_x": null,
            "overflow_y": null,
            "padding": null,
            "right": null,
            "top": null,
            "visibility": null,
            "width": null
          }
        },
        "c5238ac58c804695abd163baabd4d0a3": {
          "model_module": "@jupyter-widgets/controls",
          "model_module_version": "1.5.0",
          "model_name": "HBoxModel",
          "state": {
            "_dom_classes": [],
            "_model_module": "@jupyter-widgets/controls",
            "_model_module_version": "1.5.0",
            "_model_name": "HBoxModel",
            "_view_count": null,
            "_view_module": "@jupyter-widgets/controls",
            "_view_module_version": "1.5.0",
            "_view_name": "HBoxView",
            "box_style": "",
            "children": [
              "IPY_MODEL_a86505d22ee64049b5ccbf1f5598a0ce",
              "IPY_MODEL_ca2965a958a745c983c316c95328a0e3",
              "IPY_MODEL_bf7515c6489c48508409bf38fbd3755b"
            ],
            "layout": "IPY_MODEL_79da7152ad7341eeaa8e6ab1b05bcfc4"
          }
        },
        "ca2965a958a745c983c316c95328a0e3": {
          "model_module": "@jupyter-widgets/controls",
          "model_module_version": "1.5.0",
          "model_name": "FloatProgressModel",
          "state": {
            "_dom_classes": [],
            "_model_module": "@jupyter-widgets/controls",
            "_model_module_version": "1.5.0",
            "_model_name": "FloatProgressModel",
            "_view_count": null,
            "_view_module": "@jupyter-widgets/controls",
            "_view_module_version": "1.5.0",
            "_view_name": "ProgressView",
            "bar_style": "success",
            "description": "",
            "description_tooltip": null,
            "layout": "IPY_MODEL_90cdec3beb6242d1b014f9818b3fc343",
            "max": 526251983,
            "min": 0,
            "orientation": "horizontal",
            "style": "IPY_MODEL_99645003c1eb4b878c13b8dbf54d9932",
            "value": 526251983
          }
        },
        "e29d361c79164ad99acd158b21c1bec4": {
          "model_module": "@jupyter-widgets/controls",
          "model_module_version": "1.5.0",
          "model_name": "DescriptionStyleModel",
          "state": {
            "_model_module": "@jupyter-widgets/controls",
            "_model_module_version": "1.5.0",
            "_model_name": "DescriptionStyleModel",
            "_view_count": null,
            "_view_module": "@jupyter-widgets/base",
            "_view_module_version": "1.2.0",
            "_view_name": "StyleView",
            "description_width": ""
          }
        },
        "e93f81312c044d93a393f8b49f93ed13": {
          "model_module": "@jupyter-widgets/controls",
          "model_module_version": "1.5.0",
          "model_name": "DescriptionStyleModel",
          "state": {
            "_model_module": "@jupyter-widgets/controls",
            "_model_module_version": "1.5.0",
            "_model_name": "DescriptionStyleModel",
            "_view_count": null,
            "_view_module": "@jupyter-widgets/base",
            "_view_module_version": "1.2.0",
            "_view_name": "StyleView",
            "description_width": ""
          }
        },
        "fe44494d677a41859351bf695598714c": {
          "model_module": "@jupyter-widgets/base",
          "model_module_version": "1.2.0",
          "model_name": "LayoutModel",
          "state": {
            "_model_module": "@jupyter-widgets/base",
            "_model_module_version": "1.2.0",
            "_model_name": "LayoutModel",
            "_view_count": null,
            "_view_module": "@jupyter-widgets/base",
            "_view_module_version": "1.2.0",
            "_view_name": "LayoutView",
            "align_content": null,
            "align_items": null,
            "align_self": null,
            "border": null,
            "bottom": null,
            "display": null,
            "flex": null,
            "flex_flow": null,
            "grid_area": null,
            "grid_auto_columns": null,
            "grid_auto_flow": null,
            "grid_auto_rows": null,
            "grid_column": null,
            "grid_gap": null,
            "grid_row": null,
            "grid_template_areas": null,
            "grid_template_columns": null,
            "grid_template_rows": null,
            "height": null,
            "justify_content": null,
            "justify_items": null,
            "left": null,
            "margin": null,
            "max_height": null,
            "max_width": null,
            "min_height": null,
            "min_width": null,
            "object_fit": null,
            "object_position": null,
            "order": null,
            "overflow": null,
            "overflow_x": null,
            "overflow_y": null,
            "padding": null,
            "right": null,
            "top": null,
            "visibility": null,
            "width": null
          }
        }
      }
    }
  },
  "nbformat": 4,
  "nbformat_minor": 0
}
