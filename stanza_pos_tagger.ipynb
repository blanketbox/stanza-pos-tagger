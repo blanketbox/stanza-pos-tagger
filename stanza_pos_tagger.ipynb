{
  "nbformat": 4,
  "nbformat_minor": 0,
  "metadata": {
    "colab": {
      "provenance": []
    },
    "kernelspec": {
      "name": "python3",
      "display_name": "Python 3"
    },
    "language_info": {
      "name": "python"
    },
    "widgets": {
      "application/vnd.jupyter.widget-state+json": {
        "28288a0d0994434ca53c35d97c4bc8ce": {
          "model_module": "@jupyter-widgets/controls",
          "model_name": "HBoxModel",
          "model_module_version": "1.5.0",
          "state": {
            "_dom_classes": [],
            "_model_module": "@jupyter-widgets/controls",
            "_model_module_version": "1.5.0",
            "_model_name": "HBoxModel",
            "_view_count": null,
            "_view_module": "@jupyter-widgets/controls",
            "_view_module_version": "1.5.0",
            "_view_name": "HBoxView",
            "box_style": "",
            "children": [
              "IPY_MODEL_64e3576a4af844f4abd677c419fc2ffa",
              "IPY_MODEL_60a8c99d8b5b4f669376106a10cb73ae",
              "IPY_MODEL_f237bff89735480c8f39292ad68ea17d"
            ],
            "layout": "IPY_MODEL_f49c6c5e5ab84bd6a8a325d2f8c4e655"
          }
        },
        "64e3576a4af844f4abd677c419fc2ffa": {
          "model_module": "@jupyter-widgets/controls",
          "model_name": "HTMLModel",
          "model_module_version": "1.5.0",
          "state": {
            "_dom_classes": [],
            "_model_module": "@jupyter-widgets/controls",
            "_model_module_version": "1.5.0",
            "_model_name": "HTMLModel",
            "_view_count": null,
            "_view_module": "@jupyter-widgets/controls",
            "_view_module_version": "1.5.0",
            "_view_name": "HTMLView",
            "description": "",
            "description_tooltip": null,
            "layout": "IPY_MODEL_253a8086e0fa48fc82681b3163e139d1",
            "placeholder": "​",
            "style": "IPY_MODEL_1de325164a3d43bc999d8f429fc8ec4d",
            "value": "Downloading https://raw.githubusercontent.com/stanfordnlp/stanza-resources/main/resources_1.10.0.json: "
          }
        },
        "60a8c99d8b5b4f669376106a10cb73ae": {
          "model_module": "@jupyter-widgets/controls",
          "model_name": "FloatProgressModel",
          "model_module_version": "1.5.0",
          "state": {
            "_dom_classes": [],
            "_model_module": "@jupyter-widgets/controls",
            "_model_module_version": "1.5.0",
            "_model_name": "FloatProgressModel",
            "_view_count": null,
            "_view_module": "@jupyter-widgets/controls",
            "_view_module_version": "1.5.0",
            "_view_name": "ProgressView",
            "bar_style": "success",
            "description": "",
            "description_tooltip": null,
            "layout": "IPY_MODEL_5513796c60534e359df3afb409078db5",
            "max": 53527,
            "min": 0,
            "orientation": "horizontal",
            "style": "IPY_MODEL_fa50002183d844eaa68a71533263c3ee",
            "value": 53527
          }
        },
        "f237bff89735480c8f39292ad68ea17d": {
          "model_module": "@jupyter-widgets/controls",
          "model_name": "HTMLModel",
          "model_module_version": "1.5.0",
          "state": {
            "_dom_classes": [],
            "_model_module": "@jupyter-widgets/controls",
            "_model_module_version": "1.5.0",
            "_model_name": "HTMLModel",
            "_view_count": null,
            "_view_module": "@jupyter-widgets/controls",
            "_view_module_version": "1.5.0",
            "_view_name": "HTMLView",
            "description": "",
            "description_tooltip": null,
            "layout": "IPY_MODEL_342319e93aec4948961f5e2d77e279ab",
            "placeholder": "​",
            "style": "IPY_MODEL_c43fe4c365014b6bb8514030eaf1edc2",
            "value": " 433k/? [00:00&lt;00:00, 18.1MB/s]"
          }
        },
        "f49c6c5e5ab84bd6a8a325d2f8c4e655": {
          "model_module": "@jupyter-widgets/base",
          "model_name": "LayoutModel",
          "model_module_version": "1.2.0",
          "state": {
            "_model_module": "@jupyter-widgets/base",
            "_model_module_version": "1.2.0",
            "_model_name": "LayoutModel",
            "_view_count": null,
            "_view_module": "@jupyter-widgets/base",
            "_view_module_version": "1.2.0",
            "_view_name": "LayoutView",
            "align_content": null,
            "align_items": null,
            "align_self": null,
            "border": null,
            "bottom": null,
            "display": null,
            "flex": null,
            "flex_flow": null,
            "grid_area": null,
            "grid_auto_columns": null,
            "grid_auto_flow": null,
            "grid_auto_rows": null,
            "grid_column": null,
            "grid_gap": null,
            "grid_row": null,
            "grid_template_areas": null,
            "grid_template_columns": null,
            "grid_template_rows": null,
            "height": null,
            "justify_content": null,
            "justify_items": null,
            "left": null,
            "margin": null,
            "max_height": null,
            "max_width": null,
            "min_height": null,
            "min_width": null,
            "object_fit": null,
            "object_position": null,
            "order": null,
            "overflow": null,
            "overflow_x": null,
            "overflow_y": null,
            "padding": null,
            "right": null,
            "top": null,
            "visibility": null,
            "width": null
          }
        },
        "253a8086e0fa48fc82681b3163e139d1": {
          "model_module": "@jupyter-widgets/base",
          "model_name": "LayoutModel",
          "model_module_version": "1.2.0",
          "state": {
            "_model_module": "@jupyter-widgets/base",
            "_model_module_version": "1.2.0",
            "_model_name": "LayoutModel",
            "_view_count": null,
            "_view_module": "@jupyter-widgets/base",
            "_view_module_version": "1.2.0",
            "_view_name": "LayoutView",
            "align_content": null,
            "align_items": null,
            "align_self": null,
            "border": null,
            "bottom": null,
            "display": null,
            "flex": null,
            "flex_flow": null,
            "grid_area": null,
            "grid_auto_columns": null,
            "grid_auto_flow": null,
            "grid_auto_rows": null,
            "grid_column": null,
            "grid_gap": null,
            "grid_row": null,
            "grid_template_areas": null,
            "grid_template_columns": null,
            "grid_template_rows": null,
            "height": null,
            "justify_content": null,
            "justify_items": null,
            "left": null,
            "margin": null,
            "max_height": null,
            "max_width": null,
            "min_height": null,
            "min_width": null,
            "object_fit": null,
            "object_position": null,
            "order": null,
            "overflow": null,
            "overflow_x": null,
            "overflow_y": null,
            "padding": null,
            "right": null,
            "top": null,
            "visibility": null,
            "width": null
          }
        },
        "1de325164a3d43bc999d8f429fc8ec4d": {
          "model_module": "@jupyter-widgets/controls",
          "model_name": "DescriptionStyleModel",
          "model_module_version": "1.5.0",
          "state": {
            "_model_module": "@jupyter-widgets/controls",
            "_model_module_version": "1.5.0",
            "_model_name": "DescriptionStyleModel",
            "_view_count": null,
            "_view_module": "@jupyter-widgets/base",
            "_view_module_version": "1.2.0",
            "_view_name": "StyleView",
            "description_width": ""
          }
        },
        "5513796c60534e359df3afb409078db5": {
          "model_module": "@jupyter-widgets/base",
          "model_name": "LayoutModel",
          "model_module_version": "1.2.0",
          "state": {
            "_model_module": "@jupyter-widgets/base",
            "_model_module_version": "1.2.0",
            "_model_name": "LayoutModel",
            "_view_count": null,
            "_view_module": "@jupyter-widgets/base",
            "_view_module_version": "1.2.0",
            "_view_name": "LayoutView",
            "align_content": null,
            "align_items": null,
            "align_self": null,
            "border": null,
            "bottom": null,
            "display": null,
            "flex": null,
            "flex_flow": null,
            "grid_area": null,
            "grid_auto_columns": null,
            "grid_auto_flow": null,
            "grid_auto_rows": null,
            "grid_column": null,
            "grid_gap": null,
            "grid_row": null,
            "grid_template_areas": null,
            "grid_template_columns": null,
            "grid_template_rows": null,
            "height": null,
            "justify_content": null,
            "justify_items": null,
            "left": null,
            "margin": null,
            "max_height": null,
            "max_width": null,
            "min_height": null,
            "min_width": null,
            "object_fit": null,
            "object_position": null,
            "order": null,
            "overflow": null,
            "overflow_x": null,
            "overflow_y": null,
            "padding": null,
            "right": null,
            "top": null,
            "visibility": null,
            "width": null
          }
        },
        "fa50002183d844eaa68a71533263c3ee": {
          "model_module": "@jupyter-widgets/controls",
          "model_name": "ProgressStyleModel",
          "model_module_version": "1.5.0",
          "state": {
            "_model_module": "@jupyter-widgets/controls",
            "_model_module_version": "1.5.0",
            "_model_name": "ProgressStyleModel",
            "_view_count": null,
            "_view_module": "@jupyter-widgets/base",
            "_view_module_version": "1.2.0",
            "_view_name": "StyleView",
            "bar_color": null,
            "description_width": ""
          }
        },
        "342319e93aec4948961f5e2d77e279ab": {
          "model_module": "@jupyter-widgets/base",
          "model_name": "LayoutModel",
          "model_module_version": "1.2.0",
          "state": {
            "_model_module": "@jupyter-widgets/base",
            "_model_module_version": "1.2.0",
            "_model_name": "LayoutModel",
            "_view_count": null,
            "_view_module": "@jupyter-widgets/base",
            "_view_module_version": "1.2.0",
            "_view_name": "LayoutView",
            "align_content": null,
            "align_items": null,
            "align_self": null,
            "border": null,
            "bottom": null,
            "display": null,
            "flex": null,
            "flex_flow": null,
            "grid_area": null,
            "grid_auto_columns": null,
            "grid_auto_flow": null,
            "grid_auto_rows": null,
            "grid_column": null,
            "grid_gap": null,
            "grid_row": null,
            "grid_template_areas": null,
            "grid_template_columns": null,
            "grid_template_rows": null,
            "height": null,
            "justify_content": null,
            "justify_items": null,
            "left": null,
            "margin": null,
            "max_height": null,
            "max_width": null,
            "min_height": null,
            "min_width": null,
            "object_fit": null,
            "object_position": null,
            "order": null,
            "overflow": null,
            "overflow_x": null,
            "overflow_y": null,
            "padding": null,
            "right": null,
            "top": null,
            "visibility": null,
            "width": null
          }
        },
        "c43fe4c365014b6bb8514030eaf1edc2": {
          "model_module": "@jupyter-widgets/controls",
          "model_name": "DescriptionStyleModel",
          "model_module_version": "1.5.0",
          "state": {
            "_model_module": "@jupyter-widgets/controls",
            "_model_module_version": "1.5.0",
            "_model_name": "DescriptionStyleModel",
            "_view_count": null,
            "_view_module": "@jupyter-widgets/base",
            "_view_module_version": "1.2.0",
            "_view_name": "StyleView",
            "description_width": ""
          }
        },
        "ec2c41a7df554f1c924d898dd30624a9": {
          "model_module": "@jupyter-widgets/controls",
          "model_name": "HBoxModel",
          "model_module_version": "1.5.0",
          "state": {
            "_dom_classes": [],
            "_model_module": "@jupyter-widgets/controls",
            "_model_module_version": "1.5.0",
            "_model_name": "HBoxModel",
            "_view_count": null,
            "_view_module": "@jupyter-widgets/controls",
            "_view_module_version": "1.5.0",
            "_view_name": "HBoxView",
            "box_style": "",
            "children": [
              "IPY_MODEL_44dc675d6f41435b9f90a4e97fdde843",
              "IPY_MODEL_cba403fb91f3429290472c12d4789c54",
              "IPY_MODEL_21817fe1da824dbfbbd5cefab1ee02f5"
            ],
            "layout": "IPY_MODEL_56f6ced3bd1440e4876207d3d66a427f"
          }
        },
        "44dc675d6f41435b9f90a4e97fdde843": {
          "model_module": "@jupyter-widgets/controls",
          "model_name": "HTMLModel",
          "model_module_version": "1.5.0",
          "state": {
            "_dom_classes": [],
            "_model_module": "@jupyter-widgets/controls",
            "_model_module_version": "1.5.0",
            "_model_name": "HTMLModel",
            "_view_count": null,
            "_view_module": "@jupyter-widgets/controls",
            "_view_module_version": "1.5.0",
            "_view_name": "HTMLView",
            "description": "",
            "description_tooltip": null,
            "layout": "IPY_MODEL_506508134b4f422196044b01a7e2484a",
            "placeholder": "​",
            "style": "IPY_MODEL_42b3bbcccd3d4113a4ee457a95a21f34",
            "value": "Downloading https://huggingface.co/stanfordnlp/stanza-en/resolve/v1.10.0/models/default.zip: 100%"
          }
        },
        "cba403fb91f3429290472c12d4789c54": {
          "model_module": "@jupyter-widgets/controls",
          "model_name": "FloatProgressModel",
          "model_module_version": "1.5.0",
          "state": {
            "_dom_classes": [],
            "_model_module": "@jupyter-widgets/controls",
            "_model_module_version": "1.5.0",
            "_model_name": "FloatProgressModel",
            "_view_count": null,
            "_view_module": "@jupyter-widgets/controls",
            "_view_module_version": "1.5.0",
            "_view_name": "ProgressView",
            "bar_style": "success",
            "description": "",
            "description_tooltip": null,
            "layout": "IPY_MODEL_61ecf526f5f94e98b877c6fddd3270e3",
            "max": 526251983,
            "min": 0,
            "orientation": "horizontal",
            "style": "IPY_MODEL_59d313ceffc2489d9314c3871f01c25c",
            "value": 526251983
          }
        },
        "21817fe1da824dbfbbd5cefab1ee02f5": {
          "model_module": "@jupyter-widgets/controls",
          "model_name": "HTMLModel",
          "model_module_version": "1.5.0",
          "state": {
            "_dom_classes": [],
            "_model_module": "@jupyter-widgets/controls",
            "_model_module_version": "1.5.0",
            "_model_name": "HTMLModel",
            "_view_count": null,
            "_view_module": "@jupyter-widgets/controls",
            "_view_module_version": "1.5.0",
            "_view_name": "HTMLView",
            "description": "",
            "description_tooltip": null,
            "layout": "IPY_MODEL_2e914e2fa86b47faa32e3936228c50a6",
            "placeholder": "​",
            "style": "IPY_MODEL_904476641b8540c98b27be497f7055ea",
            "value": " 526M/526M [00:02&lt;00:00, 259MB/s]"
          }
        },
        "56f6ced3bd1440e4876207d3d66a427f": {
          "model_module": "@jupyter-widgets/base",
          "model_name": "LayoutModel",
          "model_module_version": "1.2.0",
          "state": {
            "_model_module": "@jupyter-widgets/base",
            "_model_module_version": "1.2.0",
            "_model_name": "LayoutModel",
            "_view_count": null,
            "_view_module": "@jupyter-widgets/base",
            "_view_module_version": "1.2.0",
            "_view_name": "LayoutView",
            "align_content": null,
            "align_items": null,
            "align_self": null,
            "border": null,
            "bottom": null,
            "display": null,
            "flex": null,
            "flex_flow": null,
            "grid_area": null,
            "grid_auto_columns": null,
            "grid_auto_flow": null,
            "grid_auto_rows": null,
            "grid_column": null,
            "grid_gap": null,
            "grid_row": null,
            "grid_template_areas": null,
            "grid_template_columns": null,
            "grid_template_rows": null,
            "height": null,
            "justify_content": null,
            "justify_items": null,
            "left": null,
            "margin": null,
            "max_height": null,
            "max_width": null,
            "min_height": null,
            "min_width": null,
            "object_fit": null,
            "object_position": null,
            "order": null,
            "overflow": null,
            "overflow_x": null,
            "overflow_y": null,
            "padding": null,
            "right": null,
            "top": null,
            "visibility": null,
            "width": null
          }
        },
        "506508134b4f422196044b01a7e2484a": {
          "model_module": "@jupyter-widgets/base",
          "model_name": "LayoutModel",
          "model_module_version": "1.2.0",
          "state": {
            "_model_module": "@jupyter-widgets/base",
            "_model_module_version": "1.2.0",
            "_model_name": "LayoutModel",
            "_view_count": null,
            "_view_module": "@jupyter-widgets/base",
            "_view_module_version": "1.2.0",
            "_view_name": "LayoutView",
            "align_content": null,
            "align_items": null,
            "align_self": null,
            "border": null,
            "bottom": null,
            "display": null,
            "flex": null,
            "flex_flow": null,
            "grid_area": null,
            "grid_auto_columns": null,
            "grid_auto_flow": null,
            "grid_auto_rows": null,
            "grid_column": null,
            "grid_gap": null,
            "grid_row": null,
            "grid_template_areas": null,
            "grid_template_columns": null,
            "grid_template_rows": null,
            "height": null,
            "justify_content": null,
            "justify_items": null,
            "left": null,
            "margin": null,
            "max_height": null,
            "max_width": null,
            "min_height": null,
            "min_width": null,
            "object_fit": null,
            "object_position": null,
            "order": null,
            "overflow": null,
            "overflow_x": null,
            "overflow_y": null,
            "padding": null,
            "right": null,
            "top": null,
            "visibility": null,
            "width": null
          }
        },
        "42b3bbcccd3d4113a4ee457a95a21f34": {
          "model_module": "@jupyter-widgets/controls",
          "model_name": "DescriptionStyleModel",
          "model_module_version": "1.5.0",
          "state": {
            "_model_module": "@jupyter-widgets/controls",
            "_model_module_version": "1.5.0",
            "_model_name": "DescriptionStyleModel",
            "_view_count": null,
            "_view_module": "@jupyter-widgets/base",
            "_view_module_version": "1.2.0",
            "_view_name": "StyleView",
            "description_width": ""
          }
        },
        "61ecf526f5f94e98b877c6fddd3270e3": {
          "model_module": "@jupyter-widgets/base",
          "model_name": "LayoutModel",
          "model_module_version": "1.2.0",
          "state": {
            "_model_module": "@jupyter-widgets/base",
            "_model_module_version": "1.2.0",
            "_model_name": "LayoutModel",
            "_view_count": null,
            "_view_module": "@jupyter-widgets/base",
            "_view_module_version": "1.2.0",
            "_view_name": "LayoutView",
            "align_content": null,
            "align_items": null,
            "align_self": null,
            "border": null,
            "bottom": null,
            "display": null,
            "flex": null,
            "flex_flow": null,
            "grid_area": null,
            "grid_auto_columns": null,
            "grid_auto_flow": null,
            "grid_auto_rows": null,
            "grid_column": null,
            "grid_gap": null,
            "grid_row": null,
            "grid_template_areas": null,
            "grid_template_columns": null,
            "grid_template_rows": null,
            "height": null,
            "justify_content": null,
            "justify_items": null,
            "left": null,
            "margin": null,
            "max_height": null,
            "max_width": null,
            "min_height": null,
            "min_width": null,
            "object_fit": null,
            "object_position": null,
            "order": null,
            "overflow": null,
            "overflow_x": null,
            "overflow_y": null,
            "padding": null,
            "right": null,
            "top": null,
            "visibility": null,
            "width": null
          }
        },
        "59d313ceffc2489d9314c3871f01c25c": {
          "model_module": "@jupyter-widgets/controls",
          "model_name": "ProgressStyleModel",
          "model_module_version": "1.5.0",
          "state": {
            "_model_module": "@jupyter-widgets/controls",
            "_model_module_version": "1.5.0",
            "_model_name": "ProgressStyleModel",
            "_view_count": null,
            "_view_module": "@jupyter-widgets/base",
            "_view_module_version": "1.2.0",
            "_view_name": "StyleView",
            "bar_color": null,
            "description_width": ""
          }
        },
        "2e914e2fa86b47faa32e3936228c50a6": {
          "model_module": "@jupyter-widgets/base",
          "model_name": "LayoutModel",
          "model_module_version": "1.2.0",
          "state": {
            "_model_module": "@jupyter-widgets/base",
            "_model_module_version": "1.2.0",
            "_model_name": "LayoutModel",
            "_view_count": null,
            "_view_module": "@jupyter-widgets/base",
            "_view_module_version": "1.2.0",
            "_view_name": "LayoutView",
            "align_content": null,
            "align_items": null,
            "align_self": null,
            "border": null,
            "bottom": null,
            "display": null,
            "flex": null,
            "flex_flow": null,
            "grid_area": null,
            "grid_auto_columns": null,
            "grid_auto_flow": null,
            "grid_auto_rows": null,
            "grid_column": null,
            "grid_gap": null,
            "grid_row": null,
            "grid_template_areas": null,
            "grid_template_columns": null,
            "grid_template_rows": null,
            "height": null,
            "justify_content": null,
            "justify_items": null,
            "left": null,
            "margin": null,
            "max_height": null,
            "max_width": null,
            "min_height": null,
            "min_width": null,
            "object_fit": null,
            "object_position": null,
            "order": null,
            "overflow": null,
            "overflow_x": null,
            "overflow_y": null,
            "padding": null,
            "right": null,
            "top": null,
            "visibility": null,
            "width": null
          }
        },
        "904476641b8540c98b27be497f7055ea": {
          "model_module": "@jupyter-widgets/controls",
          "model_name": "DescriptionStyleModel",
          "model_module_version": "1.5.0",
          "state": {
            "_model_module": "@jupyter-widgets/controls",
            "_model_module_version": "1.5.0",
            "_model_name": "DescriptionStyleModel",
            "_view_count": null,
            "_view_module": "@jupyter-widgets/base",
            "_view_module_version": "1.2.0",
            "_view_name": "StyleView",
            "description_width": ""
          }
        }
      }
    }
  },
  "cells": [
    {
      "cell_type": "markdown",
      "source": [
        "# Part-of-speech-tagging with *stanza*\n",
        "\n"
      ],
      "metadata": {
        "id": "_xKpZHBAAcX6"
      }
    },
    {
      "cell_type": "markdown",
      "source": [
        "This is a Python notebook for pos-tagging that is meant to be used in Google Colab.\n",
        "\n",
        "The following code will use the Python library *stanza* to tokenize and annotate text.\n",
        "\n",
        "Further information on *stanza*:\n",
        "\n",
        "*   How to use *stanza*: https://stanfordnlp.github.io/stanza/index.html\n",
        "*   The paper on *stanza*: https://aclanthology.org/2020.acl-demos.14/\n",
        "\n",
        "This code is written specifically to ignore XML-tags that is to print them unchanged and only tokenize and annotate raw text. This is ideal for use with the IMS Open Corpus Workbench where XML-tags provide metadata on each text and should not be annotated.\n",
        "\n",
        "In theory, you can use this notebook locally on your computer with the necessary dependencies (e.g. Jupyter Notebooks). In that case, you cannot use any commands specific to Google Colab. You will likely also not have a suitable GPU that will make your code run faster."
      ],
      "metadata": {
        "id": "CNBto5PnDhU5"
      }
    },
    {
      "cell_type": "markdown",
      "source": [
        "## Use the GPU\n",
        "Be sure to set the runtime in Google Colab to a GPU, so the code will run faster. This makes a huge difference with large files!\n",
        "\n",
        "Google Colab will not select a GPU by default. To change to a GPU in Google Colab, click on **Runtime** above, select **Change runtime type** and select a GPU. Your notebook will disconnect and reconnect, so you may have to rerun cells.\n",
        "\n",
        "Google Colab may limit the number of times you can use a GPU per day, but this should not be a problem, as the code works on the default settings (CPU) as well."
      ],
      "metadata": {
        "id": "wrpKIiDPAlD2"
      }
    },
    {
      "cell_type": "markdown",
      "source": [
        "## Install and import *stanza*\n"
      ],
      "metadata": {
        "id": "naXS8Cd_HE0W"
      }
    },
    {
      "cell_type": "markdown",
      "source": [
        "...and other necessary modules."
      ],
      "metadata": {
        "id": "Bd0xIsBnfv1M"
      }
    },
    {
      "cell_type": "code",
      "source": [
        "!pip install stanza"
      ],
      "metadata": {
        "colab": {
          "base_uri": "https://localhost:8080/"
        },
        "id": "oaD27jIcrU8x",
        "outputId": "ba571d05-1de4-451f-ec93-5ba19a095879",
        "collapsed": true
      },
      "execution_count": 1,
      "outputs": [
        {
          "output_type": "stream",
          "name": "stdout",
          "text": [
            "Collecting stanza\n",
            "  Downloading stanza-1.10.1-py3-none-any.whl.metadata (13 kB)\n",
            "Collecting emoji (from stanza)\n",
            "  Downloading emoji-2.14.1-py3-none-any.whl.metadata (5.7 kB)\n",
            "Requirement already satisfied: numpy in /usr/local/lib/python3.11/dist-packages (from stanza) (2.0.2)\n",
            "Requirement already satisfied: protobuf>=3.15.0 in /usr/local/lib/python3.11/dist-packages (from stanza) (5.29.5)\n",
            "Requirement already satisfied: requests in /usr/local/lib/python3.11/dist-packages (from stanza) (2.32.3)\n",
            "Requirement already satisfied: networkx in /usr/local/lib/python3.11/dist-packages (from stanza) (3.5)\n",
            "Requirement already satisfied: torch>=1.3.0 in /usr/local/lib/python3.11/dist-packages (from stanza) (2.6.0+cu124)\n",
            "Requirement already satisfied: tqdm in /usr/local/lib/python3.11/dist-packages (from stanza) (4.67.1)\n",
            "Requirement already satisfied: filelock in /usr/local/lib/python3.11/dist-packages (from torch>=1.3.0->stanza) (3.18.0)\n",
            "Requirement already satisfied: typing-extensions>=4.10.0 in /usr/local/lib/python3.11/dist-packages (from torch>=1.3.0->stanza) (4.14.1)\n",
            "Requirement already satisfied: jinja2 in /usr/local/lib/python3.11/dist-packages (from torch>=1.3.0->stanza) (3.1.6)\n",
            "Requirement already satisfied: fsspec in /usr/local/lib/python3.11/dist-packages (from torch>=1.3.0->stanza) (2025.3.0)\n",
            "Collecting nvidia-cuda-nvrtc-cu12==12.4.127 (from torch>=1.3.0->stanza)\n",
            "  Downloading nvidia_cuda_nvrtc_cu12-12.4.127-py3-none-manylinux2014_x86_64.whl.metadata (1.5 kB)\n",
            "Collecting nvidia-cuda-runtime-cu12==12.4.127 (from torch>=1.3.0->stanza)\n",
            "  Downloading nvidia_cuda_runtime_cu12-12.4.127-py3-none-manylinux2014_x86_64.whl.metadata (1.5 kB)\n",
            "Collecting nvidia-cuda-cupti-cu12==12.4.127 (from torch>=1.3.0->stanza)\n",
            "  Downloading nvidia_cuda_cupti_cu12-12.4.127-py3-none-manylinux2014_x86_64.whl.metadata (1.6 kB)\n",
            "Collecting nvidia-cudnn-cu12==9.1.0.70 (from torch>=1.3.0->stanza)\n",
            "  Downloading nvidia_cudnn_cu12-9.1.0.70-py3-none-manylinux2014_x86_64.whl.metadata (1.6 kB)\n",
            "Collecting nvidia-cublas-cu12==12.4.5.8 (from torch>=1.3.0->stanza)\n",
            "  Downloading nvidia_cublas_cu12-12.4.5.8-py3-none-manylinux2014_x86_64.whl.metadata (1.5 kB)\n",
            "Collecting nvidia-cufft-cu12==11.2.1.3 (from torch>=1.3.0->stanza)\n",
            "  Downloading nvidia_cufft_cu12-11.2.1.3-py3-none-manylinux2014_x86_64.whl.metadata (1.5 kB)\n",
            "Collecting nvidia-curand-cu12==10.3.5.147 (from torch>=1.3.0->stanza)\n",
            "  Downloading nvidia_curand_cu12-10.3.5.147-py3-none-manylinux2014_x86_64.whl.metadata (1.5 kB)\n",
            "Collecting nvidia-cusolver-cu12==11.6.1.9 (from torch>=1.3.0->stanza)\n",
            "  Downloading nvidia_cusolver_cu12-11.6.1.9-py3-none-manylinux2014_x86_64.whl.metadata (1.6 kB)\n",
            "Collecting nvidia-cusparse-cu12==12.3.1.170 (from torch>=1.3.0->stanza)\n",
            "  Downloading nvidia_cusparse_cu12-12.3.1.170-py3-none-manylinux2014_x86_64.whl.metadata (1.6 kB)\n",
            "Requirement already satisfied: nvidia-cusparselt-cu12==0.6.2 in /usr/local/lib/python3.11/dist-packages (from torch>=1.3.0->stanza) (0.6.2)\n",
            "Requirement already satisfied: nvidia-nccl-cu12==2.21.5 in /usr/local/lib/python3.11/dist-packages (from torch>=1.3.0->stanza) (2.21.5)\n",
            "Requirement already satisfied: nvidia-nvtx-cu12==12.4.127 in /usr/local/lib/python3.11/dist-packages (from torch>=1.3.0->stanza) (12.4.127)\n",
            "Collecting nvidia-nvjitlink-cu12==12.4.127 (from torch>=1.3.0->stanza)\n",
            "  Downloading nvidia_nvjitlink_cu12-12.4.127-py3-none-manylinux2014_x86_64.whl.metadata (1.5 kB)\n",
            "Requirement already satisfied: triton==3.2.0 in /usr/local/lib/python3.11/dist-packages (from torch>=1.3.0->stanza) (3.2.0)\n",
            "Requirement already satisfied: sympy==1.13.1 in /usr/local/lib/python3.11/dist-packages (from torch>=1.3.0->stanza) (1.13.1)\n",
            "Requirement already satisfied: mpmath<1.4,>=1.1.0 in /usr/local/lib/python3.11/dist-packages (from sympy==1.13.1->torch>=1.3.0->stanza) (1.3.0)\n",
            "Requirement already satisfied: charset-normalizer<4,>=2 in /usr/local/lib/python3.11/dist-packages (from requests->stanza) (3.4.2)\n",
            "Requirement already satisfied: idna<4,>=2.5 in /usr/local/lib/python3.11/dist-packages (from requests->stanza) (3.10)\n",
            "Requirement already satisfied: urllib3<3,>=1.21.1 in /usr/local/lib/python3.11/dist-packages (from requests->stanza) (2.5.0)\n",
            "Requirement already satisfied: certifi>=2017.4.17 in /usr/local/lib/python3.11/dist-packages (from requests->stanza) (2025.7.14)\n",
            "Requirement already satisfied: MarkupSafe>=2.0 in /usr/local/lib/python3.11/dist-packages (from jinja2->torch>=1.3.0->stanza) (3.0.2)\n",
            "Downloading stanza-1.10.1-py3-none-any.whl (1.1 MB)\n",
            "\u001b[2K   \u001b[90m━━━━━━━━━━━━━━━━━━━━━━━━━━━━━━━━━━━━━━━━\u001b[0m \u001b[32m1.1/1.1 MB\u001b[0m \u001b[31m17.6 MB/s\u001b[0m eta \u001b[36m0:00:00\u001b[0m\n",
            "\u001b[?25hDownloading nvidia_cublas_cu12-12.4.5.8-py3-none-manylinux2014_x86_64.whl (363.4 MB)\n",
            "\u001b[2K   \u001b[90m━━━━━━━━━━━━━━━━━━━━━━━━━━━━━━━━━━━━━━━━\u001b[0m \u001b[32m363.4/363.4 MB\u001b[0m \u001b[31m4.4 MB/s\u001b[0m eta \u001b[36m0:00:00\u001b[0m\n",
            "\u001b[?25hDownloading nvidia_cuda_cupti_cu12-12.4.127-py3-none-manylinux2014_x86_64.whl (13.8 MB)\n",
            "\u001b[2K   \u001b[90m━━━━━━━━━━━━━━━━━━━━━━━━━━━━━━━━━━━━━━━━\u001b[0m \u001b[32m13.8/13.8 MB\u001b[0m \u001b[31m67.6 MB/s\u001b[0m eta \u001b[36m0:00:00\u001b[0m\n",
            "\u001b[?25hDownloading nvidia_cuda_nvrtc_cu12-12.4.127-py3-none-manylinux2014_x86_64.whl (24.6 MB)\n",
            "\u001b[2K   \u001b[90m━━━━━━━━━━━━━━━━━━━━━━━━━━━━━━━━━━━━━━━━\u001b[0m \u001b[32m24.6/24.6 MB\u001b[0m \u001b[31m65.7 MB/s\u001b[0m eta \u001b[36m0:00:00\u001b[0m\n",
            "\u001b[?25hDownloading nvidia_cuda_runtime_cu12-12.4.127-py3-none-manylinux2014_x86_64.whl (883 kB)\n",
            "\u001b[2K   \u001b[90m━━━━━━━━━━━━━━━━━━━━━━━━━━━━━━━━━━━━━━━━\u001b[0m \u001b[32m883.7/883.7 kB\u001b[0m \u001b[31m43.2 MB/s\u001b[0m eta \u001b[36m0:00:00\u001b[0m\n",
            "\u001b[?25hDownloading nvidia_cudnn_cu12-9.1.0.70-py3-none-manylinux2014_x86_64.whl (664.8 MB)\n",
            "\u001b[2K   \u001b[90m━━━━━━━━━━━━━━━━━━━━━━━━━━━━━━━━━━━━━━━━\u001b[0m \u001b[32m664.8/664.8 MB\u001b[0m \u001b[31m2.9 MB/s\u001b[0m eta \u001b[36m0:00:00\u001b[0m\n",
            "\u001b[?25hDownloading nvidia_cufft_cu12-11.2.1.3-py3-none-manylinux2014_x86_64.whl (211.5 MB)\n",
            "\u001b[2K   \u001b[90m━━━━━━━━━━━━━━━━━━━━━━━━━━━━━━━━━━━━━━━━\u001b[0m \u001b[32m211.5/211.5 MB\u001b[0m \u001b[31m5.6 MB/s\u001b[0m eta \u001b[36m0:00:00\u001b[0m\n",
            "\u001b[?25hDownloading nvidia_curand_cu12-10.3.5.147-py3-none-manylinux2014_x86_64.whl (56.3 MB)\n",
            "\u001b[2K   \u001b[90m━━━━━━━━━━━━━━━━━━━━━━━━━━━━━━━━━━━━━━━━\u001b[0m \u001b[32m56.3/56.3 MB\u001b[0m \u001b[31m13.0 MB/s\u001b[0m eta \u001b[36m0:00:00\u001b[0m\n",
            "\u001b[?25hDownloading nvidia_cusolver_cu12-11.6.1.9-py3-none-manylinux2014_x86_64.whl (127.9 MB)\n",
            "\u001b[2K   \u001b[90m━━━━━━━━━━━━━━━━━━━━━━━━━━━━━━━━━━━━━━━━\u001b[0m \u001b[32m127.9/127.9 MB\u001b[0m \u001b[31m7.3 MB/s\u001b[0m eta \u001b[36m0:00:00\u001b[0m\n",
            "\u001b[?25hDownloading nvidia_cusparse_cu12-12.3.1.170-py3-none-manylinux2014_x86_64.whl (207.5 MB)\n",
            "\u001b[2K   \u001b[90m━━━━━━━━━━━━━━━━━━━━━━━━━━━━━━━━━━━━━━━━\u001b[0m \u001b[32m207.5/207.5 MB\u001b[0m \u001b[31m6.0 MB/s\u001b[0m eta \u001b[36m0:00:00\u001b[0m\n",
            "\u001b[?25hDownloading nvidia_nvjitlink_cu12-12.4.127-py3-none-manylinux2014_x86_64.whl (21.1 MB)\n",
            "\u001b[2K   \u001b[90m━━━━━━━━━━━━━━━━━━━━━━━━━━━━━━━━━━━━━━━━\u001b[0m \u001b[32m21.1/21.1 MB\u001b[0m \u001b[31m85.4 MB/s\u001b[0m eta \u001b[36m0:00:00\u001b[0m\n",
            "\u001b[?25hDownloading emoji-2.14.1-py3-none-any.whl (590 kB)\n",
            "\u001b[2K   \u001b[90m━━━━━━━━━━━━━━━━━━━━━━━━━━━━━━━━━━━━━━━━\u001b[0m \u001b[32m590.6/590.6 kB\u001b[0m \u001b[31m38.9 MB/s\u001b[0m eta \u001b[36m0:00:00\u001b[0m\n",
            "\u001b[?25hInstalling collected packages: nvidia-nvjitlink-cu12, nvidia-curand-cu12, nvidia-cufft-cu12, nvidia-cuda-runtime-cu12, nvidia-cuda-nvrtc-cu12, nvidia-cuda-cupti-cu12, nvidia-cublas-cu12, emoji, nvidia-cusparse-cu12, nvidia-cudnn-cu12, nvidia-cusolver-cu12, stanza\n",
            "  Attempting uninstall: nvidia-nvjitlink-cu12\n",
            "    Found existing installation: nvidia-nvjitlink-cu12 12.5.82\n",
            "    Uninstalling nvidia-nvjitlink-cu12-12.5.82:\n",
            "      Successfully uninstalled nvidia-nvjitlink-cu12-12.5.82\n",
            "  Attempting uninstall: nvidia-curand-cu12\n",
            "    Found existing installation: nvidia-curand-cu12 10.3.6.82\n",
            "    Uninstalling nvidia-curand-cu12-10.3.6.82:\n",
            "      Successfully uninstalled nvidia-curand-cu12-10.3.6.82\n",
            "  Attempting uninstall: nvidia-cufft-cu12\n",
            "    Found existing installation: nvidia-cufft-cu12 11.2.3.61\n",
            "    Uninstalling nvidia-cufft-cu12-11.2.3.61:\n",
            "      Successfully uninstalled nvidia-cufft-cu12-11.2.3.61\n",
            "  Attempting uninstall: nvidia-cuda-runtime-cu12\n",
            "    Found existing installation: nvidia-cuda-runtime-cu12 12.5.82\n",
            "    Uninstalling nvidia-cuda-runtime-cu12-12.5.82:\n",
            "      Successfully uninstalled nvidia-cuda-runtime-cu12-12.5.82\n",
            "  Attempting uninstall: nvidia-cuda-nvrtc-cu12\n",
            "    Found existing installation: nvidia-cuda-nvrtc-cu12 12.5.82\n",
            "    Uninstalling nvidia-cuda-nvrtc-cu12-12.5.82:\n",
            "      Successfully uninstalled nvidia-cuda-nvrtc-cu12-12.5.82\n",
            "  Attempting uninstall: nvidia-cuda-cupti-cu12\n",
            "    Found existing installation: nvidia-cuda-cupti-cu12 12.5.82\n",
            "    Uninstalling nvidia-cuda-cupti-cu12-12.5.82:\n",
            "      Successfully uninstalled nvidia-cuda-cupti-cu12-12.5.82\n",
            "  Attempting uninstall: nvidia-cublas-cu12\n",
            "    Found existing installation: nvidia-cublas-cu12 12.5.3.2\n",
            "    Uninstalling nvidia-cublas-cu12-12.5.3.2:\n",
            "      Successfully uninstalled nvidia-cublas-cu12-12.5.3.2\n",
            "  Attempting uninstall: nvidia-cusparse-cu12\n",
            "    Found existing installation: nvidia-cusparse-cu12 12.5.1.3\n",
            "    Uninstalling nvidia-cusparse-cu12-12.5.1.3:\n",
            "      Successfully uninstalled nvidia-cusparse-cu12-12.5.1.3\n",
            "  Attempting uninstall: nvidia-cudnn-cu12\n",
            "    Found existing installation: nvidia-cudnn-cu12 9.3.0.75\n",
            "    Uninstalling nvidia-cudnn-cu12-9.3.0.75:\n",
            "      Successfully uninstalled nvidia-cudnn-cu12-9.3.0.75\n",
            "  Attempting uninstall: nvidia-cusolver-cu12\n",
            "    Found existing installation: nvidia-cusolver-cu12 11.6.3.83\n",
            "    Uninstalling nvidia-cusolver-cu12-11.6.3.83:\n",
            "      Successfully uninstalled nvidia-cusolver-cu12-11.6.3.83\n",
            "Successfully installed emoji-2.14.1 nvidia-cublas-cu12-12.4.5.8 nvidia-cuda-cupti-cu12-12.4.127 nvidia-cuda-nvrtc-cu12-12.4.127 nvidia-cuda-runtime-cu12-12.4.127 nvidia-cudnn-cu12-9.1.0.70 nvidia-cufft-cu12-11.2.1.3 nvidia-curand-cu12-10.3.5.147 nvidia-cusolver-cu12-11.6.1.9 nvidia-cusparse-cu12-12.3.1.170 nvidia-nvjitlink-cu12-12.4.127 stanza-1.10.1\n"
          ]
        }
      ]
    },
    {
      "cell_type": "code",
      "source": [
        "import stanza\n",
        "import re\n",
        "import os"
      ],
      "metadata": {
        "id": "-Pa3kRex9Rm4"
      },
      "execution_count": 2,
      "outputs": []
    },
    {
      "cell_type": "markdown",
      "source": [
        "## Download the language model for English"
      ],
      "metadata": {
        "id": "aMruJMMU_HxO"
      }
    },
    {
      "cell_type": "code",
      "source": [
        "stanza.download(\"en\")\n",
        "print(\"Language model downloaded\")\n",
        "nlp = stanza.Pipeline(\"en\", processors=\"tokenize, lemma, pos\", verbose=False, use_gpu=True)"
      ],
      "metadata": {
        "colab": {
          "base_uri": "https://localhost:8080/",
          "referenced_widgets": [
            "28288a0d0994434ca53c35d97c4bc8ce",
            "64e3576a4af844f4abd677c419fc2ffa",
            "60a8c99d8b5b4f669376106a10cb73ae",
            "f237bff89735480c8f39292ad68ea17d",
            "f49c6c5e5ab84bd6a8a325d2f8c4e655",
            "253a8086e0fa48fc82681b3163e139d1",
            "1de325164a3d43bc999d8f429fc8ec4d",
            "5513796c60534e359df3afb409078db5",
            "fa50002183d844eaa68a71533263c3ee",
            "342319e93aec4948961f5e2d77e279ab",
            "c43fe4c365014b6bb8514030eaf1edc2",
            "ec2c41a7df554f1c924d898dd30624a9",
            "44dc675d6f41435b9f90a4e97fdde843",
            "cba403fb91f3429290472c12d4789c54",
            "21817fe1da824dbfbbd5cefab1ee02f5",
            "56f6ced3bd1440e4876207d3d66a427f",
            "506508134b4f422196044b01a7e2484a",
            "42b3bbcccd3d4113a4ee457a95a21f34",
            "61ecf526f5f94e98b877c6fddd3270e3",
            "59d313ceffc2489d9314c3871f01c25c",
            "2e914e2fa86b47faa32e3936228c50a6",
            "904476641b8540c98b27be497f7055ea"
          ],
          "height": 172
        },
        "collapsed": true,
        "id": "elM__ka--kwH",
        "outputId": "cce06ac8-7413-4e9c-d779-98fa914dd604"
      },
      "execution_count": 3,
      "outputs": [
        {
          "output_type": "display_data",
          "data": {
            "text/plain": [
              "Downloading https://raw.githubusercontent.com/stanfordnlp/stanza-resources/main/resources_1.10.0.json:   0%|  …"
            ],
            "application/vnd.jupyter.widget-view+json": {
              "version_major": 2,
              "version_minor": 0,
              "model_id": "28288a0d0994434ca53c35d97c4bc8ce"
            }
          },
          "metadata": {}
        },
        {
          "output_type": "stream",
          "name": "stderr",
          "text": [
            "INFO:stanza:Downloaded file to /root/stanza_resources/resources.json\n",
            "INFO:stanza:Downloading default packages for language: en (English) ...\n"
          ]
        },
        {
          "output_type": "display_data",
          "data": {
            "text/plain": [
              "Downloading https://huggingface.co/stanfordnlp/stanza-en/resolve/v1.10.0/models/default.zip:   0%|          | …"
            ],
            "application/vnd.jupyter.widget-view+json": {
              "version_major": 2,
              "version_minor": 0,
              "model_id": "ec2c41a7df554f1c924d898dd30624a9"
            }
          },
          "metadata": {}
        },
        {
          "output_type": "stream",
          "name": "stderr",
          "text": [
            "INFO:stanza:Downloaded file to /root/stanza_resources/en/default.zip\n",
            "INFO:stanza:Finished downloading models and saved to /root/stanza_resources\n"
          ]
        },
        {
          "output_type": "stream",
          "name": "stdout",
          "text": [
            "Language model downloaded\n"
          ]
        }
      ]
    },
    {
      "cell_type": "markdown",
      "source": [
        "For other languages and their corresponding codes (lcode), please see this list: https://stanfordnlp.github.io/stanza/performance.html\n",
        "For example, for German, replace \"en\" with \"de\" or, for Dutch, use \"nl\"."
      ],
      "metadata": {
        "id": "zQCudFTWXd5Q"
      }
    },
    {
      "cell_type": "markdown",
      "source": [
        "## Verify that you're using a GPU"
      ],
      "metadata": {
        "id": "gbbxDuhCdbaJ"
      }
    },
    {
      "cell_type": "markdown",
      "source": [
        "Depending on whether the GPU is active or not, the output of this cell should be ```True``` or ```False```."
      ],
      "metadata": {
        "id": "q912qQe8XONj"
      }
    },
    {
      "cell_type": "code",
      "source": [
        "import torch\n",
        "\n",
        "torch.cuda.is_available()"
      ],
      "metadata": {
        "id": "Piqd16HidZf-",
        "colab": {
          "base_uri": "https://localhost:8080/"
        },
        "outputId": "545efd55-5238-4a09-dfea-68d17290ad96"
      },
      "execution_count": null,
      "outputs": [
        {
          "output_type": "execute_result",
          "data": {
            "text/plain": [
              "True"
            ]
          },
          "metadata": {},
          "execution_count": 4
        }
      ]
    },
    {
      "cell_type": "markdown",
      "source": [
        "## Test the tagger with shorter texts\n",
        "\n",
        "You may find this useful to gain an impression of how well the tagger performs with your type of text – a song by Snoop Dogg and Dr. Dre, for example."
      ],
      "metadata": {
        "id": "icOqe5y3BNMG"
      }
    },
    {
      "cell_type": "code",
      "source": [
        "# Run this cell to set the sample text\n",
        "\n",
        "sample = \"\"\"\n",
        "\n",
        "And even when I was close to defeat, I rose to my feet\n",
        "My life's like a soundtrack I wrote to the beat\n",
        "Treat rap like Cali weed: I smoke 'til I'm 'sleep\n",
        "Wake up in the A.M., compose a beat\n",
        "I bring the fire 'til you're soakin' in your seat\n",
        "\n",
        "\"\"\""
      ],
      "metadata": {
        "id": "HAQKP83j9i2Z"
      },
      "execution_count": 4,
      "outputs": []
    },
    {
      "cell_type": "markdown",
      "source": [
        "Stanza will print each **token**, the **PENN Treebank tag** (xpos), the corresponding **Universal Dependencies tag** (pos), and the **lemma** (lemma) in all lowercase letters on a new line.\n",
        "\n",
        "See here for further information on the tagsets:\n",
        "\n",
        "*   **Universal Dependencies Tagset**: https://universaldependencies.org/u/pos\n",
        "*   **PENN Treebank Tagset**: https://www.ling.upenn.edu/courses/Fall_2003/ling001/penn_treebank_pos.html\n",
        "\n",
        "\n",
        "The output will be a tab-separated list, with each token on a separate line.\n"
      ],
      "metadata": {
        "id": "eZawzfYg_gqc"
      }
    },
    {
      "cell_type": "code",
      "source": [
        "# Run this to cell to tag the sample text\n",
        "\n",
        "def tag_text(text):\n",
        "  # pattern to split XML tags and non-tags\n",
        "  # group 1: XML tags, group 2: non-tag text\n",
        "  parts = re.findall(r'(<[^>]+>)|([^<]+)', text)\n",
        "\n",
        "\n",
        "  for tag, text in parts:\n",
        "      if tag:\n",
        "          # it's an XML tag, so write it unchanged\n",
        "          print(tag + \"\\n\")\n",
        "      elif text:\n",
        "          # it's text content, so lemmatize, clean and write\n",
        "          doc = nlp(text)\n",
        "\n",
        "          for sentence in doc.sentences:\n",
        "              for word in sentence.words:\n",
        "                  print(f\"{word.text}\\t{word.xpos}\\t{word.pos}\\t{word.lemma.lower()}\\n\")\n",
        "\n",
        "\n",
        "tag_text(sample)"
      ],
      "metadata": {
        "colab": {
          "base_uri": "https://localhost:8080/"
        },
        "collapsed": true,
        "id": "YFLhGXfD88IC",
        "outputId": "db7548d4-bb8e-408a-fa3d-50e0405b069a"
      },
      "execution_count": 18,
      "outputs": [
        {
          "output_type": "stream",
          "name": "stdout",
          "text": [
            "And\tCC\tCCONJ\tand\n",
            "\n",
            "even\tRB\tADV\teven\n",
            "\n",
            "when\tWRB\tADV\twhen\n",
            "\n",
            "I\tPRP\tPRON\ti\n",
            "\n",
            "was\tVBD\tAUX\tbe\n",
            "\n",
            "close\tJJ\tADJ\tclose\n",
            "\n",
            "to\tIN\tADP\tto\n",
            "\n",
            "defeat\tNN\tNOUN\tdefeat\n",
            "\n",
            ",\t,\tPUNCT\t,\n",
            "\n",
            "I\tPRP\tPRON\ti\n",
            "\n",
            "rose\tVBD\tVERB\trise\n",
            "\n",
            "to\tIN\tADP\tto\n",
            "\n",
            "my\tPRP$\tPRON\tmy\n",
            "\n",
            "feet\tNNS\tNOUN\tfoot\n",
            "\n",
            "My\tPRP$\tPRON\tmy\n",
            "\n",
            "life\tNN\tNOUN\tlife\n",
            "\n",
            "'s\tVBZ\tAUX\tbe\n",
            "\n",
            "like\tUH\tINTJ\tlike\n",
            "\n",
            "a\tDT\tDET\ta\n",
            "\n",
            "soundtrack\tNN\tNOUN\tsoundtrack\n",
            "\n",
            "I\tPRP\tPRON\ti\n",
            "\n",
            "wrote\tVBD\tVERB\twrite\n",
            "\n",
            "to\tIN\tADP\tto\n",
            "\n",
            "the\tDT\tDET\tthe\n",
            "\n",
            "beat\tNN\tNOUN\tbeat\n",
            "\n",
            "Treat\tNN\tNOUN\ttreat\n",
            "\n",
            "rap\tNN\tNOUN\trap\n",
            "\n",
            "like\tIN\tADP\tlike\n",
            "\n",
            "Cali\tNNP\tPROPN\tcali\n",
            "\n",
            "weed\tNN\tNOUN\tweed\n",
            "\n",
            ":\t:\tPUNCT\t:\n",
            "\n",
            "I\tPRP\tPRON\ti\n",
            "\n",
            "smoke\tVBP\tVERB\tsmoke\n",
            "\n",
            "'\t``\tPUNCT\t'\n",
            "\n",
            "til\tIN\tSCONJ\ttill\n",
            "\n",
            "I\tPRP\tPRON\ti\n",
            "\n",
            "'m\tVBP\tAUX\tbe\n",
            "\n",
            "'\t``\tPUNCT\t'\n",
            "\n",
            "sleep\tVB\tVERB\tsleep\n",
            "\n",
            "Wake\tVB\tVERB\twake\n",
            "\n",
            "up\tRP\tADP\tup\n",
            "\n",
            "in\tIN\tADP\tin\n",
            "\n",
            "the\tDT\tDET\tthe\n",
            "\n",
            "A.M.\tNN\tNOUN\ta.m.\n",
            "\n",
            ",\t,\tPUNCT\t,\n",
            "\n",
            "compose\tVB\tVERB\tcompose\n",
            "\n",
            "a\tDT\tDET\ta\n",
            "\n",
            "beat\tNN\tNOUN\tbeat\n",
            "\n",
            "I\tPRP\tPRON\ti\n",
            "\n",
            "bring\tVBP\tVERB\tbring\n",
            "\n",
            "the\tDT\tDET\tthe\n",
            "\n",
            "fire\tNN\tNOUN\tfire\n",
            "\n",
            "'\t``\tPUNCT\t'\n",
            "\n",
            "til\tIN\tSCONJ\ttill\n",
            "\n",
            "you\tPRP\tPRON\tyou\n",
            "\n",
            "'re\tVBP\tAUX\tbe\n",
            "\n",
            "soakin\tVBG\tVERB\tsoakin\n",
            "\n",
            "'\t''\tPUNCT\t'\n",
            "\n",
            "in\tIN\tADP\tin\n",
            "\n",
            "your\tPRP$\tPRON\tyour\n",
            "\n",
            "seat\tNN\tNOUN\tseat\n",
            "\n"
          ]
        }
      ]
    },
    {
      "cell_type": "markdown",
      "source": [
        "## Use the tagger with a text file\n",
        "\n"
      ],
      "metadata": {
        "id": "DtmFezjMHi4g"
      }
    },
    {
      "cell_type": "markdown",
      "source": [
        "### Option 1: Upload the file directly to this Google Colab notebook\n",
        "\n",
        "Click on the folder icon on the lefthand side, then click on the file icon with the upward arrow to upload a file from your computer.\n",
        "\n",
        "Be aware that all your files uploaded to this project will be deleted once this runtime disconnects, e.g. if it has been inactive for a while."
      ],
      "metadata": {
        "id": "6jhWy-_lJOPG"
      }
    },
    {
      "cell_type": "code",
      "source": [
        "# this command shows you the current working directory\n",
        "print(\"You're currently in the folder:\")\n",
        "!pwd\n",
        "\n",
        "#this command lists all the file in your current working directory\n",
        "print(f\"The current contents of the folder are:\")\n",
        "!ls"
      ],
      "metadata": {
        "colab": {
          "base_uri": "https://localhost:8080/"
        },
        "collapsed": true,
        "id": "Iu3WHzKBJ6df",
        "outputId": "3a266f47-9ff7-4a14-b823-2b4dc347b03e"
      },
      "execution_count": null,
      "outputs": [
        {
          "output_type": "stream",
          "name": "stdout",
          "text": [
            "You're currently in the folder:\n",
            "/content\n",
            "The current contents of the folder are:\n",
            "drive  sample_data  swift.vrt  swift.xml  test.txt  test.vrt\n"
          ]
        }
      ]
    },
    {
      "cell_type": "markdown",
      "source": [
        "When inserting the name of your file in the cell below, please include the file extension as well. For a file named \"test.txt\", the extension would be \".txt\".\n",
        "\n",
        "Make sure that the file name is correct and does not contain whitespace on either side."
      ],
      "metadata": {
        "id": "vdY05c5dMuLA"
      }
    },
    {
      "cell_type": "code",
      "source": [
        "# Insert the name of your file inside the quotation marks\n",
        "input_file = \"test.txt\""
      ],
      "metadata": {
        "id": "Mtp-CLcSMrie"
      },
      "execution_count": 40,
      "outputs": []
    },
    {
      "cell_type": "code",
      "source": [
        "input_file = f\"/content/{input_file}\"\n",
        "\n",
        "name, ext = os.path.splitext(input_file)\n",
        "output_file = name + \".vrt\""
      ],
      "metadata": {
        "id": "M43BvlGlKEqW"
      },
      "execution_count": 41,
      "outputs": []
    },
    {
      "cell_type": "markdown",
      "source": [
        "### Option 2: Connect this notebook to your Google Drive account\n",
        "\n",
        "If you run this cell, a window should open, asking for permission. If you grant it, another window will have you select the Gooogle Drive account and specify which permissions to grant. You need to allow the notebook to open, read, edit and delete files. This will likely be only one tick box.\n",
        "\n",
        "If everything worked, the output of the cell should say: ```Mounted at /content/drive```."
      ],
      "metadata": {
        "id": "0naoDPctPNK6"
      }
    },
    {
      "cell_type": "code",
      "execution_count": null,
      "metadata": {
        "id": "qXrQ2OTi691o",
        "colab": {
          "base_uri": "https://localhost:8080/"
        },
        "outputId": "bb678c56-ebbd-4579-bfff-5ba87b6e7934"
      },
      "outputs": [
        {
          "output_type": "stream",
          "name": "stdout",
          "text": [
            "Drive already mounted at /content/drive; to attempt to forcibly remount, call drive.mount(\"/content/drive\", force_remount=True).\n"
          ]
        }
      ],
      "source": [
        "from google.colab import drive\n",
        "drive.mount(\"/content/drive\")"
      ]
    },
    {
      "cell_type": "markdown",
      "source": [
        "If your file is saved in your Google Drive, the notebook can access it with the following cells.\n",
        "\n",
        "**The file itself will not be changed!** It will only be opened in read-mode \"r\", meaning its contents will be read. The notebook will produce a new file with the tagged text.\n",
        "\n",
        "When inserting the name of your file in the cell below, please include the file extension as well. For a file named \"test.txt\", the extension would be \".txt\". Make sure that the file name is correct and does not contain whitespace on either side.\n"
      ],
      "metadata": {
        "id": "AFzOSrHWOj4c"
      }
    },
    {
      "cell_type": "code",
      "source": [
        "# Insert the name of your file inside the quotation marks\n",
        "input_file = \"test.txt\""
      ],
      "metadata": {
        "id": "4UBtu4CoKzwW"
      },
      "execution_count": 38,
      "outputs": []
    },
    {
      "cell_type": "code",
      "source": [
        "input_file = f\"/content/drive/My Drive/{input_file}\"\n",
        "\n",
        "name, ext = os.path.splitext(input_file)\n",
        "output_file = name + \".vrt\""
      ],
      "metadata": {
        "id": "YJl4h-RyKNPr"
      },
      "execution_count": 43,
      "outputs": []
    },
    {
      "cell_type": "markdown",
      "source": [
        "## Tag your file"
      ],
      "metadata": {
        "id": "Z7gKMeQ4JtGv"
      }
    },
    {
      "cell_type": "markdown",
      "source": [
        "With Google Colab set to use the GPU, this code will approximately need 6-7 minutes to tokenize and annotate a file with over 100.000 tokens.\n",
        "\n",
        "Be aware that the following code will **automatically download** the created file to your computer, unless the indicated line is commented out. It is advised that the file be immediately downloaded, because all files will be deleted as soon as the runtime disconnects (e.g. if the notebook has been inactive for a while).\n",
        "\n",
        "The downloaded file will have the name of the original input file with the extension changed to \".vrt\" (VeRTicalized file). This is just a normal text file that can be opened with any editor. Find out more here: https://fedora.clarin-d.uni-saarland.de/teaching/Comparing_Corpora_Tutorials/Tutorial_VRT.html\n",
        "\n",
        "As said before, Stanza will print each **token**, the **PENN Treebank tag** (xpos), the corresponding **Universal Dependencies tag** (pos), and the **lemma** (lemma) in all lowercase letters on a new line.\n"
      ],
      "metadata": {
        "id": "gbDKwAO4VCws"
      }
    },
    {
      "cell_type": "code",
      "source": [
        "# Run this cell to tag the file\n",
        "\n",
        "from google.colab import files\n",
        "\n",
        "\n",
        "def tag_file(input_file, output_file):\n",
        "\n",
        "    with open(input_file, \"r\") as input_file:\n",
        "      content = input_file.read()\n",
        "\n",
        "    # pattern to split XML tags and non-tags\n",
        "    # group 1: XML tags, group 2: non-tag text\n",
        "    parts = re.findall(r'(<[^>]+>)|([^<]+)', content)\n",
        "\n",
        "\n",
        "    with open(output_file, \"w\", encoding=\"utf-8\") as out:\n",
        "        for tag, text in parts:\n",
        "            # print(tag, text)\n",
        "            if tag:\n",
        "                # it's an XML tag, so write it unchanged\n",
        "                out.write(tag + \"\\n\")\n",
        "            elif text:\n",
        "                # it's text content, so lemmatize, clean and write\n",
        "                doc = nlp(text)\n",
        "\n",
        "                for sentence in doc.sentences:\n",
        "                    for word in sentence.words:\n",
        "                        out.write(\n",
        "                            f\"{word.text}\\t{word.xpos}\\t{word.pos}\\t{word.lemma.lower()}\\n\")\n",
        "\n",
        "    return f\"Lemmatized text written to {output_file}.\"\n",
        "\n",
        "\n",
        "print(tag_file(input_file=input_file, output_file=output_file))\n",
        "\n",
        "# download the output file to your computer\n",
        "files.download(output_file)\n",
        "\n",
        "print(f\"{output_file} downloaded.\")"
      ],
      "metadata": {
        "id": "9me9n77kInpn",
        "colab": {
          "base_uri": "https://localhost:8080/",
          "height": 54
        },
        "outputId": "6e8c3cf1-ae7c-4bf2-b258-32c32da46f10"
      },
      "execution_count": 42,
      "outputs": [
        {
          "output_type": "stream",
          "name": "stdout",
          "text": [
            "Lemmatized text written to /content/test.vrt.\n"
          ]
        },
        {
          "output_type": "display_data",
          "data": {
            "text/plain": [
              "<IPython.core.display.Javascript object>"
            ],
            "application/javascript": [
              "\n",
              "    async function download(id, filename, size) {\n",
              "      if (!google.colab.kernel.accessAllowed) {\n",
              "        return;\n",
              "      }\n",
              "      const div = document.createElement('div');\n",
              "      const label = document.createElement('label');\n",
              "      label.textContent = `Downloading \"${filename}\": `;\n",
              "      div.appendChild(label);\n",
              "      const progress = document.createElement('progress');\n",
              "      progress.max = size;\n",
              "      div.appendChild(progress);\n",
              "      document.body.appendChild(div);\n",
              "\n",
              "      const buffers = [];\n",
              "      let downloaded = 0;\n",
              "\n",
              "      const channel = await google.colab.kernel.comms.open(id);\n",
              "      // Send a message to notify the kernel that we're ready.\n",
              "      channel.send({})\n",
              "\n",
              "      for await (const message of channel.messages) {\n",
              "        // Send a message to notify the kernel that we're ready.\n",
              "        channel.send({})\n",
              "        if (message.buffers) {\n",
              "          for (const buffer of message.buffers) {\n",
              "            buffers.push(buffer);\n",
              "            downloaded += buffer.byteLength;\n",
              "            progress.value = downloaded;\n",
              "          }\n",
              "        }\n",
              "      }\n",
              "      const blob = new Blob(buffers, {type: 'application/binary'});\n",
              "      const a = document.createElement('a');\n",
              "      a.href = window.URL.createObjectURL(blob);\n",
              "      a.download = filename;\n",
              "      div.appendChild(a);\n",
              "      a.click();\n",
              "      div.remove();\n",
              "    }\n",
              "  "
            ]
          },
          "metadata": {}
        },
        {
          "output_type": "display_data",
          "data": {
            "text/plain": [
              "<IPython.core.display.Javascript object>"
            ],
            "application/javascript": [
              "download(\"download_87d01835-68b0-4c54-bc18-61d9b4d14d19\", \"test.vrt\", 3629)"
            ]
          },
          "metadata": {}
        },
        {
          "output_type": "stream",
          "name": "stdout",
          "text": [
            "/content/test.vrt downloaded.\n"
          ]
        }
      ]
    },
    {
      "cell_type": "markdown",
      "source": [],
      "metadata": {
        "id": "7jKV-heKRNJL"
      }
    }
  ]
}